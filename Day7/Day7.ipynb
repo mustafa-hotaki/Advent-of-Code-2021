{
 "cells": [
  {
   "cell_type": "markdown",
   "id": "f8ec8752",
   "metadata": {},
   "source": [
    "# Advent of Code 2021 - Day 7"
   ]
  },
  {
   "cell_type": "code",
   "execution_count": 35,
   "id": "a36576a2",
   "metadata": {},
   "outputs": [],
   "source": [
    "data = []\n",
    "with open(\"inputs_day_7.txt\", \"r\") as f:\n",
    "    for line in f:\n",
    "        data.append(line.strip())\n",
    " "
   ]
  },
  {
   "cell_type": "code",
   "execution_count": 41,
   "id": "e3df5e2b",
   "metadata": {},
   "outputs": [
    {
     "data": {
      "text/plain": [
       "([1101, 1, 29, 67, 1102, 0, 1, 65, 1008, 65], 1000)"
      ]
     },
     "execution_count": 41,
     "metadata": {},
     "output_type": "execute_result"
    }
   ],
   "source": [
    "nums = [int(x) for x in data[0].split(',')]\n",
    "nums[:10], len(nums)"
   ]
  },
  {
   "cell_type": "code",
   "execution_count": 48,
   "id": "6a94c081",
   "metadata": {},
   "outputs": [
    {
     "data": {
      "text/plain": [
       "313.0"
      ]
     },
     "execution_count": 48,
     "metadata": {},
     "output_type": "execute_result"
    }
   ],
   "source": [
    "from statistics import median\n",
    "median(nums)"
   ]
  },
  {
   "cell_type": "markdown",
   "id": "0607dee4",
   "metadata": {},
   "source": [
    "Brute Forcing was good enough for now, but binary search is of course the more efficient way of doing it. I might come back and clean this up."
   ]
  },
  {
   "cell_type": "markdown",
   "id": "4cc18881",
   "metadata": {},
   "source": [
    "## Part 1"
   ]
  },
  {
   "cell_type": "code",
   "execution_count": 38,
   "id": "2e161599",
   "metadata": {},
   "outputs": [
    {
     "data": {
      "text/plain": [
       "344297"
      ]
     },
     "execution_count": 38,
     "metadata": {},
     "output_type": "execute_result"
    }
   ],
   "source": [
    "candidate_fuels = []\n",
    "for candiate_position in range(min(nums), max(nums) + 1):\n",
    "    fuels = sum([max(candiate_position, x) - min(candiate_position, x) for x in nums])\n",
    "    candidate_fuels += [fuels]\n",
    "\n",
    "min(candidate_fuels)"
   ]
  },
  {
   "cell_type": "code",
   "execution_count": 43,
   "id": "d8fe53c1",
   "metadata": {},
   "outputs": [
    {
     "data": {
      "text/plain": [
       "344297"
      ]
     },
     "execution_count": 43,
     "metadata": {},
     "output_type": "execute_result"
    }
   ],
   "source": [
    "def compute_fuel_expenditure(nums, position):\n",
    "    fuels = sum([max(position, x) - min(position, x) for x in nums])\n",
    "    return fuels\n",
    "\n",
    "compute_fuel_expenditure(nums, 313)"
   ]
  },
  {
   "cell_type": "markdown",
   "id": "e02e811f",
   "metadata": {},
   "source": [
    "## Part 2"
   ]
  },
  {
   "cell_type": "code",
   "execution_count": 4,
   "id": "8f5ee648",
   "metadata": {},
   "outputs": [
    {
     "data": {
      "text/plain": [
       "97164301"
      ]
     },
     "execution_count": 4,
     "metadata": {},
     "output_type": "execute_result"
    }
   ],
   "source": [
    "candidate_fuels = []\n",
    "\n",
    "for candiate_position in range(min(nums), max(nums) + 1):\n",
    "    \n",
    "    fuels = 0 \n",
    "    for x in nums:\n",
    "        fuel = sum([x + 1 for x in range(max(candiate_position, x) - min(candiate_position, x))])\n",
    "        fuels += fuel\n",
    "    \n",
    "    candidate_fuels += [fuels]\n",
    "    \n",
    "min(candidate_fuels)"
   ]
  }
 ],
 "metadata": {
  "kernelspec": {
   "display_name": "Python 3 (ipykernel)",
   "language": "python",
   "name": "python3"
  },
  "language_info": {
   "codemirror_mode": {
    "name": "ipython",
    "version": 3
   },
   "file_extension": ".py",
   "mimetype": "text/x-python",
   "name": "python",
   "nbconvert_exporter": "python",
   "pygments_lexer": "ipython3",
   "version": "3.9.6"
  }
 },
 "nbformat": 4,
 "nbformat_minor": 5
}
