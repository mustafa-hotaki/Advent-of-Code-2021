{
 "cells": [
  {
   "cell_type": "markdown",
   "id": "f8ec8752",
   "metadata": {},
   "source": [
    "# Advent of Code 2021 - Day 5"
   ]
  },
  {
   "cell_type": "code",
   "execution_count": 1,
   "id": "a36576a2",
   "metadata": {},
   "outputs": [
    {
     "name": "stdout",
     "output_type": "stream",
     "text": [
      "First 2 data points: ['491,392 -> 34,392', '337,52 -> 485,52']\n",
      "Number of data points: 500\n"
     ]
    }
   ],
   "source": [
    "data = []\n",
    "with open(\"inputs_day_5.txt\", \"r\") as f:\n",
    "    for line in f:\n",
    "        data.append(line.strip())\n",
    "\n",
    "print('First 2 data points:', data[ : 2])\n",
    "print('Number of data points:', len(data))"
   ]
  },
  {
   "cell_type": "code",
   "execution_count": 2,
   "id": "f4a85ed8",
   "metadata": {},
   "outputs": [
    {
     "data": {
      "text/plain": [
       "[[(491, 392), (34, 392)], [(337, 52), (485, 52)]]"
      ]
     },
     "execution_count": 2,
     "metadata": {},
     "output_type": "execute_result"
    }
   ],
   "source": [
    "end_points = []\n",
    "for x in data:\n",
    "    a = [tuple([int(i) for i in a.split(',')]) for a in x.split(' -> ')]\n",
    "    \n",
    "    end_points += [a]\n",
    "\n",
    "end_points[:2]"
   ]
  },
  {
   "cell_type": "code",
   "execution_count": 3,
   "id": "cfd30dd5",
   "metadata": {},
   "outputs": [],
   "source": [
    "def print_grid(grid):\n",
    "    top_left = (min([xy[0] for xy in grid.keys()]), min([xy[1] for xy in grid.keys()]))\n",
    "    bottom_right = (max([xy[0] for xy in grid.keys()]), max([xy[1] for xy in grid.keys()]))\n",
    "\n",
    "    for y in range(top_left[0], bottom_right[0] + 1):\n",
    "        for x in range(top_left[1], bottom_right[1] + 1):\n",
    "            #print((x, y), end='')\n",
    "            if (x, y) in grid:\n",
    "                pass\n",
    "                print(grid[(x, y)], end='')\n",
    "            else:\n",
    "                pass\n",
    "                print('.', end='')\n",
    "    \n",
    "        print('')"
   ]
  },
  {
   "cell_type": "markdown",
   "id": "4cc18881",
   "metadata": {},
   "source": [
    "## Part 1"
   ]
  },
  {
   "cell_type": "code",
   "execution_count": 4,
   "id": "7aff0a19",
   "metadata": {},
   "outputs": [],
   "source": [
    "grid = dict()\n",
    "for a, b in end_points:\n",
    "        \n",
    "    if a[0] == b[0] or a[1] == b[1]: # horz or vert\n",
    "        \n",
    "        if a[0] == b[0]: #vert, x is same\n",
    "            x = a[0]\n",
    "            ys = [i for i in range(min(a[1], b[1]), max(a[1], b[1]) + 1)]\n",
    "            for y in ys:\n",
    "                if (x, y) in grid:\n",
    "                    grid[(x, y)] += 1\n",
    "                else:\n",
    "                    grid[(x, y)] = 1\n",
    "\n",
    "        elif a[1] == b[1]: #horz\n",
    "            y = a[1]\n",
    "            xs = [i for i in range(min(a[0], b[0]), max(a[0], b[0]) + 1)]\n",
    "            for x in xs:\n",
    "                if (x, y) in grid:\n",
    "                    grid[(x, y)] += 1\n",
    "                else:\n",
    "                    grid[(x, y)] = 1"
   ]
  },
  {
   "cell_type": "code",
   "execution_count": 5,
   "id": "6c16a2aa",
   "metadata": {},
   "outputs": [
    {
     "data": {
      "text/plain": [
       "6856"
      ]
     },
     "execution_count": 5,
     "metadata": {},
     "output_type": "execute_result"
    }
   ],
   "source": [
    "count = 0\n",
    "for key in grid:\n",
    "    count += (grid[key] >= 2)\n",
    "count"
   ]
  },
  {
   "cell_type": "code",
   "execution_count": 6,
   "id": "be37417c",
   "metadata": {},
   "outputs": [],
   "source": [
    "#print_grid(grid)"
   ]
  },
  {
   "cell_type": "markdown",
   "id": "e02e811f",
   "metadata": {},
   "source": [
    "## Part 2"
   ]
  },
  {
   "cell_type": "code",
   "execution_count": 7,
   "id": "9df668f6",
   "metadata": {},
   "outputs": [],
   "source": [
    "grid = dict()\n",
    "for a, b in end_points:\n",
    "        \n",
    "    if a[0] == b[0] or a[1] == b[1]: # horz or vert\n",
    "        #print('Horz or Vert', a, b)\n",
    "        \n",
    "        if a[0] == b[0]: #vert, x is same\n",
    "            x = a[0]\n",
    "            ys = [i for i in range(min(a[1], b[1]), max(a[1], b[1]) + 1)]\n",
    "            #print('ys', ys)\n",
    "            for y in ys:\n",
    "                if (x, y) in grid:\n",
    "                    grid[(x, y)] += 1\n",
    "                else:\n",
    "                    grid[(x, y)] = 1\n",
    "\n",
    "        elif a[1] == b[1]: #horz\n",
    "            y = a[1]\n",
    "            xs = [i for i in range(min(a[0], b[0]), max(a[0], b[0]) + 1)]\n",
    "            for x in xs:\n",
    "                if (x, y) in grid:\n",
    "                    grid[(x, y)] += 1\n",
    "                else:\n",
    "                    grid[(x, y)] = 1\n",
    "    \n",
    "    else: # diagonal        \n",
    "        xs = []\n",
    "        ys = []\n",
    "        if a[0] < b[0]:\n",
    "            xs = [x for x in range(a[0], b[0] + 1, 1)]\n",
    "        else :\n",
    "            xs = [x for x in range(a[0], b[0] - 1, -1)]\n",
    "        if a[1] < b[1]:\n",
    "            ys = [y for y in range(a[1], b[1] + 1, 1)]\n",
    "        else :\n",
    "            ys = [y for y in range(a[1], b[1] - 1, -1)]\n",
    "            \n",
    "        assert len(xs) == len(ys) # If the points make a line -/+45 degrees, the slope = -/+ 1 => same # of xs and ys\n",
    "        \n",
    "        points = [(x, y) for x, y in zip(xs, ys)]\n",
    "\n",
    "        for x,y in points:\n",
    "            if (x, y) in grid:\n",
    "                grid[(x, y)] += 1\n",
    "            else:\n",
    "                grid[(x, y)] = 1\n"
   ]
  },
  {
   "cell_type": "code",
   "execution_count": 8,
   "id": "1f7688e6",
   "metadata": {},
   "outputs": [
    {
     "data": {
      "text/plain": [
       "20666"
      ]
     },
     "execution_count": 8,
     "metadata": {},
     "output_type": "execute_result"
    }
   ],
   "source": [
    "count = 0\n",
    "for key in grid:\n",
    "    count += (grid[key] >= 2)\n",
    "count"
   ]
  },
  {
   "cell_type": "code",
   "execution_count": 9,
   "id": "d19f6d41",
   "metadata": {},
   "outputs": [],
   "source": [
    "#print_grid(grid)"
   ]
  },
  {
   "cell_type": "markdown",
   "id": "983961f2",
   "metadata": {},
   "source": [
    "# Note\n",
    "\n",
    "For my original submission I sort of cheated and used an implementation of the Bresenham's Line Algorithm I found at: http://www.roguebasin.com/index.php?title=Bresenham%27s_Line_Algorithm#Python\n",
    "\n",
    "This algorithm is overkill for this problem since the lines specified by the input are either horizontal, vertical, or diagonal (i.e., +/- 45 degrees)."
   ]
  },
  {
   "cell_type": "code",
   "execution_count": 10,
   "id": "d5d29aed",
   "metadata": {},
   "outputs": [],
   "source": [
    "def get_line(start, end):\n",
    "\n",
    "    # Setup initial conditions\n",
    "    x1, y1 = start\n",
    "    x2, y2 = end\n",
    "    dx = x2 - x1\n",
    "    dy = y2 - y1\n",
    "\n",
    "    # Determine how steep the line is\n",
    "    is_steep = abs(dy) > abs(dx)\n",
    "\n",
    "    # Rotate line\n",
    "    if is_steep:\n",
    "        x1, y1 = y1, x1\n",
    "        x2, y2 = y2, x2\n",
    "\n",
    "    # Swap start and end points if necessary and store swap state\n",
    "    swapped = False\n",
    "    if x1 > x2:\n",
    "        x1, x2 = x2, x1\n",
    "        y1, y2 = y2, y1\n",
    "        swapped = True\n",
    "\n",
    "    # Recalculate differentials\n",
    "    dx = x2 - x1\n",
    "    dy = y2 - y1\n",
    "\n",
    "    # Calculate error\n",
    "    error = int(dx / 2.0)\n",
    "    ystep = 1 if y1 < y2 else -1\n",
    "\n",
    "    # Iterate over bounding box generating points between start and end\n",
    "    y = y1\n",
    "    points = []\n",
    "    for x in range(x1, x2 + 1):\n",
    "        coord = (y, x) if is_steep else (x, y)\n",
    "        points.append(coord)\n",
    "        error -= abs(dy)\n",
    "        if error < 0:\n",
    "            y += ystep\n",
    "            error += dx\n",
    "\n",
    "    # Reverse the list if the coordinates were swapped\n",
    "    if swapped:\n",
    "        points.reverse()\n",
    "    return points"
   ]
  }
 ],
 "metadata": {
  "kernelspec": {
   "display_name": "Python 3 (ipykernel)",
   "language": "python",
   "name": "python3"
  },
  "language_info": {
   "codemirror_mode": {
    "name": "ipython",
    "version": 3
   },
   "file_extension": ".py",
   "mimetype": "text/x-python",
   "name": "python",
   "nbconvert_exporter": "python",
   "pygments_lexer": "ipython3",
   "version": "3.9.6"
  }
 },
 "nbformat": 4,
 "nbformat_minor": 5
}
