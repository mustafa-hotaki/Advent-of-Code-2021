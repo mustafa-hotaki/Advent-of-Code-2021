{
 "cells": [
  {
   "cell_type": "markdown",
   "id": "f8ec8752",
   "metadata": {},
   "source": [
    "# Advent of Code 2021 - Day 15"
   ]
  },
  {
   "cell_type": "code",
   "execution_count": 10,
   "id": "a36576a2",
   "metadata": {},
   "outputs": [
    {
     "data": {
      "text/plain": [
       "['7715611621811483411121929153345417926121654738244558184333228256741518593939121351941172244538819793',\n",
       " '5978192582116933121967117233221363821218169348147142177193168221219699236451313112198933914323123492',\n",
       " '3523162115513315258921111444182316618172925755923799136271191151813516522171176112647162541858173363',\n",
       " '7931931461145231897547234134741682994126523123999252325119362919742719127391146114344331291116971777',\n",
       " '3912157144212332298711374454411326743116179131395281613188171189221945922126933817119198199326455346']"
      ]
     },
     "execution_count": 10,
     "metadata": {},
     "output_type": "execute_result"
    }
   ],
   "source": [
    "EXAMPLE = 0\n",
    "filename = \"input.txt\"\n",
    "if EXAMPLE: filename = \"example.txt\"\n",
    "    \n",
    "data = []\n",
    "with open(filename, \"r\") as f:\n",
    "    for line in f:\n",
    "        data += [line.strip()]\n",
    "        \n",
    "data[:5]"
   ]
  },
  {
   "cell_type": "code",
   "execution_count": 11,
   "id": "88e12815",
   "metadata": {},
   "outputs": [],
   "source": [
    "from utils import Get_Neighbor_Coordinates\n",
    "from utils import Graph"
   ]
  },
  {
   "cell_type": "code",
   "execution_count": 12,
   "id": "9d20cd21",
   "metadata": {},
   "outputs": [
    {
     "data": {
      "text/plain": [
       "(100, 100)"
      ]
     },
     "execution_count": 12,
     "metadata": {},
     "output_type": "execute_result"
    }
   ],
   "source": [
    "riskmap = [[int(d) for d in x] for x in data]\n",
    "len(riskmap), len(riskmap[0])"
   ]
  },
  {
   "cell_type": "markdown",
   "id": "42af53fc",
   "metadata": {},
   "source": [
    "# Part 1"
   ]
  },
  {
   "cell_type": "code",
   "execution_count": 13,
   "id": "e5b077a6",
   "metadata": {},
   "outputs": [
    {
     "data": {
      "text/plain": [
       "(10000, 39600)"
      ]
     },
     "execution_count": 13,
     "metadata": {},
     "output_type": "execute_result"
    }
   ],
   "source": [
    "nodes = set()\n",
    "edges = set()\n",
    "adjacency_list = {}\n",
    "\n",
    "for i, row in enumerate(riskmap):\n",
    "    for j, e in enumerate(row):\n",
    "        neighbor_coordinates = Get_Neighbor_Coordinates(i, j)\n",
    "        \n",
    "        nodes.add((i, j))\n",
    "        adjacency_list[(i, j)] = []\n",
    "        \n",
    "        for a, b in neighbor_coordinates:\n",
    "            if a in range(len(riskmap)) and b in range(len(row)):\n",
    "                edge = ((i, j) , (a, b))\n",
    "                edge_val = riskmap[a][b]\n",
    "                edges.add((edge, edge_val))\n",
    "                adjacency_list[(i, j)] += [((a, b), edge_val)]\n",
    "\n",
    "\n",
    "len(nodes), len(edges)      "
   ]
  },
  {
   "cell_type": "code",
   "execution_count": 14,
   "id": "bb4b6a22",
   "metadata": {},
   "outputs": [
    {
     "data": {
      "text/plain": [
       "390"
      ]
     },
     "execution_count": 14,
     "metadata": {},
     "output_type": "execute_result"
    }
   ],
   "source": [
    "graph = Graph(adjacency_list)\n",
    "start_node = (0, 0)\n",
    "target_node = (len(riskmap) - 1, len(riskmap) - 1)\n",
    "path = graph.a_star_algorithm(start_node, target_node)\n",
    "sum([riskmap[x[0]][x[1]] for x in path[1:]])"
   ]
  },
  {
   "cell_type": "markdown",
   "id": "842a938d",
   "metadata": {},
   "source": [
    "# Part 2"
   ]
  },
  {
   "cell_type": "code",
   "execution_count": 15,
   "id": "1739ee43",
   "metadata": {},
   "outputs": [
    {
     "data": {
      "text/plain": [
       "1"
      ]
     },
     "execution_count": 15,
     "metadata": {},
     "output_type": "execute_result"
    }
   ],
   "source": [
    "riskmap = [[int(d) for d in x] for x in data]\n",
    "len(riskmap), len(riskmap[0])\n",
    "\n",
    "riskmap_big = [[0 for j in range(5 * len(riskmap))] for i in range(5 * len(riskmap))]\n",
    "\n",
    "for i in range(5 * len(riskmap)):\n",
    "    for j in range(5 * len(riskmap)):\n",
    "\n",
    "        val = riskmap[i % len(riskmap)][j % len(riskmap)] + int(i/len(riskmap)) +  int(j/len(riskmap))\n",
    "\n",
    "        if val > 9:\n",
    "            val = val % 9\n",
    "            \n",
    "        riskmap_big[i][j] = val\n",
    "    \n",
    "riskmap_big[0][12]"
   ]
  },
  {
   "cell_type": "code",
   "execution_count": 16,
   "id": "b6ced563",
   "metadata": {},
   "outputs": [
    {
     "data": {
      "text/plain": [
       "(250000, 998000)"
      ]
     },
     "execution_count": 16,
     "metadata": {},
     "output_type": "execute_result"
    }
   ],
   "source": [
    "riskmap = riskmap_big\n",
    "nodes = set()\n",
    "edges = set()\n",
    "adjacency_list = {}\n",
    "\n",
    "for i, row in enumerate(riskmap):\n",
    "    for j, e in enumerate(row):\n",
    "        neighbor_coordinates = Get_Neighbor_Coordinates(i, j)\n",
    "        \n",
    "        nodes.add((i, j))\n",
    "        adjacency_list[(i, j)] = []\n",
    "        \n",
    "        for a, b in neighbor_coordinates:\n",
    "            if a in range(len(riskmap)) and b in range(len(row)):\n",
    "                edge = ((i, j) , (a, b))\n",
    "                edge_val = riskmap[a][b]\n",
    "                edges.add((edge, edge_val))\n",
    "                adjacency_list[(i, j)] += [((a, b), edge_val)]\n",
    "\n",
    "len(nodes), len(edges)             "
   ]
  },
  {
   "cell_type": "code",
   "execution_count": 17,
   "id": "9a579db9",
   "metadata": {},
   "outputs": [
    {
     "data": {
      "text/plain": [
       "2814"
      ]
     },
     "execution_count": 17,
     "metadata": {},
     "output_type": "execute_result"
    }
   ],
   "source": [
    "graph = Graph(adjacency_list)\n",
    "start_node = (0, 0)\n",
    "target_node = (len(riskmap) - 1, len(riskmap) - 1)\n",
    "path = graph.a_star_algorithm(start_node, target_node)\n",
    "sum([riskmap[x[0]][x[1]] for x in path[1:]])"
   ]
  },
  {
   "cell_type": "code",
   "execution_count": null,
   "id": "a7d12dc7",
   "metadata": {},
   "outputs": [],
   "source": []
  }
 ],
 "metadata": {
  "kernelspec": {
   "display_name": "Python 3 (ipykernel)",
   "language": "python",
   "name": "python3"
  },
  "language_info": {
   "codemirror_mode": {
    "name": "ipython",
    "version": 3
   },
   "file_extension": ".py",
   "mimetype": "text/x-python",
   "name": "python",
   "nbconvert_exporter": "python",
   "pygments_lexer": "ipython3",
   "version": "3.9.6"
  }
 },
 "nbformat": 4,
 "nbformat_minor": 5
}
