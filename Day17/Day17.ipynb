{
 "cells": [
  {
   "cell_type": "markdown",
   "id": "f8ec8752",
   "metadata": {},
   "source": [
    "# Advent of Code 2021 - Day 17"
   ]
  },
  {
   "cell_type": "code",
   "execution_count": 15,
   "id": "a36576a2",
   "metadata": {},
   "outputs": [],
   "source": [
    "EXAMPLE = 0\n",
    "target_x = None\n",
    "target_y = None\n",
    "\n",
    "if EXAMPLE: \n",
    "    #target area: x=20..30, y=-10..-5\n",
    "    target_x = (20, 30)\n",
    "    target_y = (-10, -5)    \n",
    "else:\n",
    "    #target area: x=144..178, y=-100..-76\n",
    "    target_x = (144, 178)\n",
    "    target_y = (-100, -76)"
   ]
  },
  {
   "cell_type": "markdown",
   "id": "42af53fc",
   "metadata": {},
   "source": [
    "# An extremely brain-dead solution\n"
   ]
  },
  {
   "cell_type": "code",
   "execution_count": 16,
   "id": "15238f37",
   "metadata": {},
   "outputs": [],
   "source": [
    "def step_once(x, y, velocity_x, velocity_y):\n",
    "    x += velocity_x\n",
    "    y += velocity_y\n",
    "    if velocity_x > 0:\n",
    "        velocity_x -= 1\n",
    "    elif velocity_x < 0:\n",
    "        velocity_x += 1\n",
    "    velocity_y -= 1\n",
    "    \n",
    "    return x, y, velocity_x, velocity_y"
   ]
  },
  {
   "cell_type": "code",
   "execution_count": 17,
   "id": "27236f86",
   "metadata": {},
   "outputs": [],
   "source": [
    "def check_within_target(x, y, target_x, target_y):\n",
    "    x_falls = x >=  target_x[0] and x <= target_x[1]\n",
    "    y_falls = y >=  target_y[0] and y <= target_y[1]  \n",
    "    return x_falls and y_falls"
   ]
  },
  {
   "cell_type": "code",
   "execution_count": 18,
   "id": "a7d12dc7",
   "metadata": {
    "scrolled": true
   },
   "outputs": [
    {
     "data": {
      "text/plain": [
       "(4950, 1477)"
      ]
     },
     "execution_count": 18,
     "metadata": {},
     "output_type": "execute_result"
    }
   ],
   "source": [
    "maximum_height = min(target_y)\n",
    "success_counter = 0\n",
    "\n",
    "for xv in range(0, max(target_x) + 1):\n",
    "    for yv in range(-300, 300):\n",
    "\n",
    "        x, y = (0, 0)\n",
    "        velocity_x, velocity_y = (xv, yv)\n",
    "        heights = []\n",
    "        success = False\n",
    "        step = 0\n",
    "        while(True):\n",
    "            x, y, velocity_x, velocity_y = step_once(x, y, velocity_x, velocity_y)\n",
    "            falls = check_within_target(x, y, target_x, target_y)\n",
    "            heights += [y]\n",
    "            \n",
    "            if falls:\n",
    "                success = True\n",
    "                success_counter += 1\n",
    "                break\n",
    "                \n",
    "            if y < min(target_y) or x > max(target_x): # Overshot\n",
    "                break\n",
    "            step += 1\n",
    "                \n",
    "        if success and max(heights) > maximum_height:\n",
    "            maximum_height = max(heights)\n",
    "                \n",
    "maximum_height, success_counter"
   ]
  }
 ],
 "metadata": {
  "kernelspec": {
   "display_name": "Python 3 (ipykernel)",
   "language": "python",
   "name": "python3"
  },
  "language_info": {
   "codemirror_mode": {
    "name": "ipython",
    "version": 3
   },
   "file_extension": ".py",
   "mimetype": "text/x-python",
   "name": "python",
   "nbconvert_exporter": "python",
   "pygments_lexer": "ipython3",
   "version": "3.9.6"
  }
 },
 "nbformat": 4,
 "nbformat_minor": 5
}
