{
 "cells": [
  {
   "cell_type": "markdown",
   "id": "f8ec8752",
   "metadata": {},
   "source": [
    "# Advent of Code 2021 - Day 12"
   ]
  },
  {
   "cell_type": "code",
   "execution_count": 17,
   "id": "a36576a2",
   "metadata": {},
   "outputs": [],
   "source": [
    "EXAMPLE = 0\n",
    "filename = \"input.txt\"\n",
    "if EXAMPLE: filename = \"example.txt\"\n",
    "    \n",
    "data = []\n",
    "with open(filename, \"r\") as f:\n",
    "    for line in f:\n",
    "        data.append(line.strip())"
   ]
  },
  {
   "cell_type": "markdown",
   "id": "4cc18881",
   "metadata": {},
   "source": [
    "## Part 1"
   ]
  },
  {
   "cell_type": "code",
   "execution_count": 18,
   "id": "188d412c",
   "metadata": {},
   "outputs": [
    {
     "data": {
      "text/plain": [
       "[('start', 'YY'),\n",
       " ('av', 'rz'),\n",
       " ('rz', 'VH'),\n",
       " ('fh', 'av'),\n",
       " ('end', 'fh'),\n",
       " ('sk', 'gp'),\n",
       " ('ae', 'av'),\n",
       " ('YY', 'gp'),\n",
       " ('end', 'VH'),\n",
       " ('CF', 'qz'),\n",
       " ('qz', 'end'),\n",
       " ('qz', 'VG'),\n",
       " ('start', 'gp'),\n",
       " ('VG', 'sk'),\n",
       " ('rz', 'YY'),\n",
       " ('VH', 'sk'),\n",
       " ('rz', 'gp'),\n",
       " ('VH', 'av'),\n",
       " ('VH', 'fh'),\n",
       " ('sk', 'rz'),\n",
       " ('YY', 'sk'),\n",
       " ('av', 'gp'),\n",
       " ('rz', 'qz'),\n",
       " ('VG', 'start'),\n",
       " ('sk', 'fh'),\n",
       " ('VG', 'av')]"
      ]
     },
     "execution_count": 18,
     "metadata": {},
     "output_type": "execute_result"
    }
   ],
   "source": [
    "edges = []\n",
    "for x in data:\n",
    "    #print(x.split('-'))\n",
    "    edges += [tuple(x.split('-'))]\n",
    "    \n",
    "edges"
   ]
  },
  {
   "cell_type": "code",
   "execution_count": 22,
   "id": "a415c392",
   "metadata": {},
   "outputs": [
    {
     "data": {
      "text/plain": [
       "4707"
      ]
     },
     "execution_count": 22,
     "metadata": {},
     "output_type": "execute_result"
    }
   ],
   "source": [
    "def find_paths_to_end(path_so_far, node, edges, paths):\n",
    "    \n",
    "    # Find everything it connects to\n",
    "    connections = []\n",
    "    for e in edges:\n",
    "        if e[0] == node:\n",
    "            connections += [(e[0], e[1])]\n",
    "        elif e[1] == node and e[0] != 'start':\n",
    "            connections += [(e[1], e[0])]\n",
    "                \n",
    "    for c in connections:\n",
    "        if not c[1] in path_so_far or c[1].isupper():\n",
    "            if c[1] == 'end':\n",
    "                full_path = path_so_far + [node] + [c[1]]\n",
    "                paths += [full_path]\n",
    "            else:\n",
    "                find_paths_to_end(path_so_far + [node], c[1], edges, paths)\n",
    "                \n",
    "        else: # Ignore\n",
    "            pass\n",
    "    \n",
    "paths = []\n",
    "find_paths_to_end([], 'start', edges, paths)\n",
    "len(paths)"
   ]
  },
  {
   "cell_type": "markdown",
   "id": "e02e811f",
   "metadata": {},
   "source": [
    "## Part 2"
   ]
  },
  {
   "cell_type": "code",
   "execution_count": 28,
   "id": "61986d68",
   "metadata": {},
   "outputs": [
    {
     "data": {
      "text/plain": [
       "[]"
      ]
     },
     "execution_count": 28,
     "metadata": {},
     "output_type": "execute_result"
    }
   ],
   "source": [
    "from collections import Counter\n",
    "\n",
    "def find_paths_to_end(path_so_far, node, edges, paths, small):\n",
    "    #print('\\nfind_paths_to_end')    \n",
    "    #print('paths_so_far:', path_so_far, ', node:', node)\n",
    "    \n",
    "    # Find everything it connects to\n",
    "    connections = []\n",
    "    for e in edges:\n",
    "        if e[0] == node:\n",
    "            connections += [(e[0], e[1])]\n",
    "        elif e[1] == node and e[0] != 'start':\n",
    "            connections += [(e[1], e[0])]\n",
    "            \n",
    "    #print('connections', connections)\n",
    "    \n",
    "    connections_to_do = []\n",
    "    for c in connections:\n",
    "        #print('connection', c)\n",
    "        if c[1].isupper():\n",
    "            #print('will do', c)\n",
    "            connections_to_do += [c]\n",
    "            \n",
    "        elif c[1].lower():\n",
    "            #print('is lower', c[1])\n",
    "            if c[1] in path_so_far:\n",
    "                if Counter(path_so_far)[c[1]] < 2 and c[1] == small:\n",
    "                    #print('will do (revisit small) 1', c)\n",
    "                    connections_to_do += [c]\n",
    "            else:\n",
    "                #print('will do (revisit small) 2', c)\n",
    "                connections_to_do += [c]            \n",
    "        else:\n",
    "            pass\n",
    "            #print('will not do', c)\n",
    "        \n",
    "        \n",
    "    for c in connections_to_do:\n",
    "        if c[1] == 'end':\n",
    "            full_path = path_so_far + [node] + [c[1]]\n",
    "            #print('connection to do, found end', full_path)\n",
    "            paths += [full_path]\n",
    "        else:\n",
    "            #print('connection to do, recursing', c)\n",
    "            find_paths_to_end(path_so_far + [node], c[1], edges, paths, small)\n",
    "        \n",
    "        \n",
    "    #return paths\n",
    "    \n",
    "    \n",
    "paths = []\n",
    "find_paths_to_end(['start', 'b'], 'd', edges, paths, 'b')\n",
    "paths"
   ]
  },
  {
   "cell_type": "code",
   "execution_count": 29,
   "id": "968f19d2",
   "metadata": {},
   "outputs": [
    {
     "data": {
      "text/plain": [
       "{'ae', 'av', 'fh', 'gp', 'qz', 'rz', 'sk'}"
      ]
     },
     "execution_count": 29,
     "metadata": {},
     "output_type": "execute_result"
    }
   ],
   "source": [
    "smalls = set()\n",
    "for x in edges:\n",
    "    if(x[0].islower() and x[0] != 'start' and x[0] != 'end'):\n",
    "        smalls.add(x[0])\n",
    "    if(x[1].islower() and x[1] != 'start' and x[1] != 'end'):\n",
    "        smalls.add(x[1])\n",
    "    \n",
    "smalls"
   ]
  },
  {
   "cell_type": "code",
   "execution_count": 27,
   "id": "09a5f1f9",
   "metadata": {},
   "outputs": [
    {
     "data": {
      "text/plain": [
       "130493"
      ]
     },
     "execution_count": 27,
     "metadata": {},
     "output_type": "execute_result"
    }
   ],
   "source": [
    "paths = []\n",
    "for small in smalls:\n",
    "    #print('small', small)\n",
    "    find_paths_to_end([], 'start', edges, paths, small)\n",
    "    \n",
    "    \n",
    "paths = [tuple(x) for x in paths]\n",
    "len(set(paths))"
   ]
  },
  {
   "cell_type": "code",
   "execution_count": null,
   "id": "2d927ddb",
   "metadata": {},
   "outputs": [],
   "source": []
  }
 ],
 "metadata": {
  "kernelspec": {
   "display_name": "Python 3 (ipykernel)",
   "language": "python",
   "name": "python3"
  },
  "language_info": {
   "codemirror_mode": {
    "name": "ipython",
    "version": 3
   },
   "file_extension": ".py",
   "mimetype": "text/x-python",
   "name": "python",
   "nbconvert_exporter": "python",
   "pygments_lexer": "ipython3",
   "version": "3.9.6"
  }
 },
 "nbformat": 4,
 "nbformat_minor": 5
}
