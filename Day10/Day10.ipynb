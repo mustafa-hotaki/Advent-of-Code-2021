{
 "cells": [
  {
   "cell_type": "markdown",
   "id": "f8ec8752",
   "metadata": {},
   "source": [
    "# Advent of Code 2021 - Day 10"
   ]
  },
  {
   "cell_type": "code",
   "execution_count": 1,
   "id": "a36576a2",
   "metadata": {},
   "outputs": [
    {
     "data": {
      "text/plain": [
       "['{<{[<((<[<({<{(){}}(()())>[<<><>>((){})]}(<<{}{}>(<><>)>))(<[(<>{}){()()}]{{{}[]}(()())}>[',\n",
       " '((<{[<([<<{[<(()())([]())>)<<<{}{}>{[][]}>{<<>>(()[])}>}<(((()[])[{}<>])[<[]{}>{{}[]}])[[({}{})']"
      ]
     },
     "execution_count": 1,
     "metadata": {},
     "output_type": "execute_result"
    }
   ],
   "source": [
    "EXAMPLE = 0\n",
    "filename = \"input.txt\"\n",
    "if EXAMPLE: filename = \"example.txt\"\n",
    "    \n",
    "data = []\n",
    "with open(filename, \"r\") as f:\n",
    "    for line in f:\n",
    "        data.append(line.strip())\n",
    "\n",
    "data[:2]"
   ]
  },
  {
   "cell_type": "code",
   "execution_count": 2,
   "id": "a6c4c4c8",
   "metadata": {},
   "outputs": [],
   "source": [
    "opening = ['(', '[', '{', '<']\n",
    "closing = [')', ']', '}', '>']"
   ]
  },
  {
   "cell_type": "markdown",
   "id": "4cc18881",
   "metadata": {},
   "source": [
    "## Part 1"
   ]
  },
  {
   "cell_type": "code",
   "execution_count": 3,
   "id": "51c8e916",
   "metadata": {},
   "outputs": [],
   "source": [
    "penalties = {\n",
    "    ')' : 3,\n",
    "    ']' : 57,\n",
    "    '}' : 1197,\n",
    "    '>' : 25137\n",
    "}"
   ]
  },
  {
   "cell_type": "code",
   "execution_count": 4,
   "id": "55ca7ebb",
   "metadata": {},
   "outputs": [],
   "source": [
    "def Check_Corruption(string):\n",
    "    stack = []\n",
    "    for i, c in enumerate(string):\n",
    "        if c in opening:\n",
    "            stack.append(c)\n",
    "        else:\n",
    "            popped = stack.pop()\n",
    "            index = opening.index(popped)\n",
    "            if closing.index(c) != index:\n",
    "                return c\n",
    "    return ''"
   ]
  },
  {
   "cell_type": "code",
   "execution_count": 5,
   "id": "2c7c7429",
   "metadata": {},
   "outputs": [
    {
     "data": {
      "text/plain": [
       "390993"
      ]
     },
     "execution_count": 5,
     "metadata": {},
     "output_type": "execute_result"
    }
   ],
   "source": [
    "incomplete = []\n",
    "total = 0\n",
    "for x in data:\n",
    "    corrupted = Check_Corruption(x)\n",
    "    if corrupted:\n",
    "        total += penalties[corrupted]\n",
    "    else:\n",
    "        incomplete += [x]\n",
    "        \n",
    "total"
   ]
  },
  {
   "cell_type": "markdown",
   "id": "e02e811f",
   "metadata": {},
   "source": [
    "## Part 2"
   ]
  },
  {
   "cell_type": "code",
   "execution_count": 6,
   "id": "4a3ea68b",
   "metadata": {},
   "outputs": [],
   "source": [
    "penalties = {\n",
    "    ')' : 1,\n",
    "    ']' : 2,\n",
    "    '}' : 3,\n",
    "    '>' : 4\n",
    "}"
   ]
  },
  {
   "cell_type": "code",
   "execution_count": 7,
   "id": "c0d6f4b8",
   "metadata": {},
   "outputs": [],
   "source": [
    "def Complete(string):\n",
    "    missing = []\n",
    "    stack = []\n",
    "    for i, c in enumerate(string[::-1]):\n",
    "        if c in closing:\n",
    "            stack.append(c)\n",
    "        else:\n",
    "            if len(stack):\n",
    "                popped = stack.pop()\n",
    "            else:\n",
    "                index = opening.index(c)\n",
    "                missing.append(closing[index])\n",
    "    return missing"
   ]
  },
  {
   "cell_type": "code",
   "execution_count": 8,
   "id": "c12a7d9b",
   "metadata": {},
   "outputs": [],
   "source": [
    "def Score(missing):\n",
    "    score = 0\n",
    "    for c in missing:\n",
    "        score = (score * 5) + penalties[c]\n",
    "    return score"
   ]
  },
  {
   "cell_type": "code",
   "execution_count": 9,
   "id": "2800ceda",
   "metadata": {},
   "outputs": [
    {
     "data": {
      "text/plain": [
       "2391385187"
      ]
     },
     "execution_count": 9,
     "metadata": {},
     "output_type": "execute_result"
    }
   ],
   "source": [
    "scores = []\n",
    "for x in incomplete:\n",
    "    missing = Complete(x)\n",
    "    scores += [Score(missing)]\n",
    "        \n",
    "from statistics import median\n",
    "median(scores)"
   ]
  },
  {
   "cell_type": "code",
   "execution_count": null,
   "id": "abf2a2a1",
   "metadata": {},
   "outputs": [],
   "source": []
  }
 ],
 "metadata": {
  "kernelspec": {
   "display_name": "Python 3 (ipykernel)",
   "language": "python",
   "name": "python3"
  },
  "language_info": {
   "codemirror_mode": {
    "name": "ipython",
    "version": 3
   },
   "file_extension": ".py",
   "mimetype": "text/x-python",
   "name": "python",
   "nbconvert_exporter": "python",
   "pygments_lexer": "ipython3",
   "version": "3.9.6"
  }
 },
 "nbformat": 4,
 "nbformat_minor": 5
}
