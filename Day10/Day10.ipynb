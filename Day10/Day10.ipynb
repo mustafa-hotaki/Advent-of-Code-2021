{
 "cells": [
  {
   "cell_type": "markdown",
   "id": "f8ec8752",
   "metadata": {},
   "source": [
    "# Advent of Code 2021 - Day 10"
   ]
  },
  {
   "cell_type": "code",
   "execution_count": 1,
   "id": "a36576a2",
   "metadata": {},
   "outputs": [
    {
     "data": {
      "text/plain": [
       "['{<{[<((<[<({<{(){}}(()())>[<<><>>((){})]}(<<{}{}>(<><>)>))(<[(<>{}){()()}]{{{}[]}(()())}>[',\n",
       " '((<{[<([<<{[<(()())([]())>)<<<{}{}>{[][]}>{<<>>(()[])}>}<(((()[])[{}<>])[<[]{}>{{}[]}])[[({}{})']"
      ]
     },
     "execution_count": 1,
     "metadata": {},
     "output_type": "execute_result"
    }
   ],
   "source": [
    "EXAMPLE = 0\n",
    "filename = \"input.txt\"\n",
    "if EXAMPLE: filename = \"example.txt\"\n",
    "    \n",
    "data = []\n",
    "with open(filename, \"r\") as f:\n",
    "    for line in f:\n",
    "        data.append(line.strip())\n",
    "\n",
    "data[:2]"
   ]
  },
  {
   "cell_type": "markdown",
   "id": "4cc18881",
   "metadata": {},
   "source": [
    "## Part 1"
   ]
  },
  {
   "cell_type": "code",
   "execution_count": 2,
   "id": "e44c8a03",
   "metadata": {},
   "outputs": [],
   "source": [
    "penalties = {\n",
    "    ')' : 3,\n",
    "    ']' : 57,\n",
    "    '}' : 1197,\n",
    "    '>' : 25137\n",
    "}\n",
    "\n",
    "opening = ['(', '[', '{', '<']\n",
    "closing = [')', ']', '}', '>']"
   ]
  },
  {
   "cell_type": "code",
   "execution_count": 3,
   "id": "ea49bdcd",
   "metadata": {},
   "outputs": [],
   "source": [
    "def check_corruption(string):\n",
    "    stack = []\n",
    "    for i, c in enumerate(string):\n",
    "        if c in opening:\n",
    "            stack.append(c)\n",
    "        else:\n",
    "            popped = stack.pop()\n",
    "            index = opening.index(popped)\n",
    "            if closing.index(c) != index:\n",
    "                return c"
   ]
  },
  {
   "cell_type": "code",
   "execution_count": 4,
   "id": "17821960",
   "metadata": {},
   "outputs": [
    {
     "data": {
      "text/plain": [
       "390993"
      ]
     },
     "execution_count": 4,
     "metadata": {},
     "output_type": "execute_result"
    }
   ],
   "source": [
    "incomplete = []\n",
    "total = 0\n",
    "for x in data:\n",
    "    res = check_corruption(x)\n",
    "    #print(x, 'Error', res)\n",
    "    if res:\n",
    "        penalty = penalties[res]\n",
    "        total += penalty\n",
    "    else:\n",
    "        incomplete += [x]\n",
    "        \n",
    "total"
   ]
  },
  {
   "cell_type": "markdown",
   "id": "e02e811f",
   "metadata": {},
   "source": [
    "## Part 2"
   ]
  },
  {
   "cell_type": "code",
   "execution_count": 5,
   "id": "a0520840",
   "metadata": {},
   "outputs": [],
   "source": [
    "penalties = {\n",
    "    ')' : 1,\n",
    "    ']' : 2,\n",
    "    '}' : 3,\n",
    "    '>' : 4\n",
    "}"
   ]
  },
  {
   "cell_type": "code",
   "execution_count": 6,
   "id": "9530227b",
   "metadata": {},
   "outputs": [],
   "source": [
    "def complete(string):\n",
    "    missing = []\n",
    "    stack = []\n",
    "    for i, c in enumerate(string[::-1]):\n",
    "        if c in closing:\n",
    "            stack.append(c)\n",
    "        else:\n",
    "            try:\n",
    "                popped = stack.pop()\n",
    "            except:\n",
    "                index = opening.index(c)\n",
    "                missing.append(closing[index])\n",
    "    return missing"
   ]
  },
  {
   "cell_type": "code",
   "execution_count": 7,
   "id": "a8f5859b",
   "metadata": {},
   "outputs": [
    {
     "data": {
      "text/plain": [
       "294"
      ]
     },
     "execution_count": 7,
     "metadata": {},
     "output_type": "execute_result"
    }
   ],
   "source": [
    "def score(missing):\n",
    "    score = 0\n",
    "    for c in missing:\n",
    "        score = (score * 5) + penalties[c]\n",
    "    return score\n",
    "        \n",
    "\n",
    "missing = '])}>'\n",
    "score(missing)"
   ]
  },
  {
   "cell_type": "code",
   "execution_count": 8,
   "id": "34fd6eb6",
   "metadata": {},
   "outputs": [
    {
     "data": {
      "text/plain": [
       "2391385187"
      ]
     },
     "execution_count": 8,
     "metadata": {},
     "output_type": "execute_result"
    }
   ],
   "source": [
    "scores = []\n",
    "for x in incomplete:\n",
    "    missing = complete(x)\n",
    "    scores += [score(missing)]\n",
    "        \n",
    "from statistics import median\n",
    "median(scores)"
   ]
  }
 ],
 "metadata": {
  "kernelspec": {
   "display_name": "Python 3 (ipykernel)",
   "language": "python",
   "name": "python3"
  },
  "language_info": {
   "codemirror_mode": {
    "name": "ipython",
    "version": 3
   },
   "file_extension": ".py",
   "mimetype": "text/x-python",
   "name": "python",
   "nbconvert_exporter": "python",
   "pygments_lexer": "ipython3",
   "version": "3.9.6"
  }
 },
 "nbformat": 4,
 "nbformat_minor": 5
}
