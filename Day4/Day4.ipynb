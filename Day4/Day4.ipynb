{
 "cells": [
  {
   "cell_type": "markdown",
   "id": "f8ec8752",
   "metadata": {},
   "source": [
    "# Advent of Code 2021 - Day 4"
   ]
  },
  {
   "cell_type": "code",
   "execution_count": 1,
   "id": "a36576a2",
   "metadata": {},
   "outputs": [
    {
     "data": {
      "text/plain": [
       "[85, 84, 30, 15, 46]"
      ]
     },
     "execution_count": 1,
     "metadata": {},
     "output_type": "execute_result"
    }
   ],
   "source": [
    "data = ''\n",
    "with open(\"inputs_day_4.txt\", \"r\") as f:\n",
    "    for line in f:\n",
    "        data += line\n",
    "\n",
    "random_numbers = [int(x) for x in data.split('\\n\\n')[0].split(',')]\n",
    "random_numbers[:5]"
   ]
  },
  {
   "cell_type": "markdown",
   "id": "4cc18881",
   "metadata": {},
   "source": [
    "## Part 1\n",
    "\n",
    "There is no need to mark the appropriate cells on the entire grid and then come back again to check the entire grid for a win. It suffices to check the row and column corresponding to the cell that was just marked to see if a win has occurred. This is how a person playing the game would naturally check."
   ]
  },
  {
   "cell_type": "code",
   "execution_count": 2,
   "id": "959ddf6b",
   "metadata": {},
   "outputs": [],
   "source": [
    "def mark_and_check(bingo, val):\n",
    "    results = []\n",
    "    for row_n, row in enumerate(bingo):\n",
    "        for col_n, col in enumerate(row):\n",
    "            if col[0] == val:\n",
    "                bingo[row_n][col_n][1] = True\n",
    "                row_win = sum([x[1] for x in row]) == len(row)\n",
    "                col_win = sum([x[col_n][1] for x in bingo]) == len(bingo)                \n",
    "                results += [row_win, col_win]\n",
    "    return sum(results) >= 1"
   ]
  },
  {
   "cell_type": "code",
   "execution_count": 3,
   "id": "cacae32a",
   "metadata": {
    "scrolled": true
   },
   "outputs": [
    {
     "name": "stdout",
     "output_type": "stream",
     "text": [
      "Winner! Round: 27 Random Number: 96 Score: 63552\n"
     ]
    }
   ],
   "source": [
    "bingos = []\n",
    "\n",
    "for x in data.split('\\n\\n')[1:]:\n",
    "    bingo = [[[int(i), False] for i in row.split(' ') if i] for row in x.split('\\n')]\n",
    "    bingos.append(bingo)\n",
    "    \n",
    "for i, rn in enumerate(random_numbers):\n",
    "    win = False\n",
    "    for bn, bingo in enumerate(bingos):\n",
    "        win = mark_and_check(bingo, rn)\n",
    "        \n",
    "        if (win):\n",
    "            unmarked_sum = sum([sum([x[0] for x in row if not x[1]]) for row in bingo])\n",
    "            print('Winner! Round:', i + 1, 'Random Number:', rn, 'Score:', rn * unmarked_sum)\n",
    "            break\n",
    "            \n",
    "    if(win):\n",
    "        break\n"
   ]
  },
  {
   "cell_type": "markdown",
   "id": "e02e811f",
   "metadata": {},
   "source": [
    "## Part 2"
   ]
  },
  {
   "cell_type": "code",
   "execution_count": 4,
   "id": "bf2d66c3",
   "metadata": {},
   "outputs": [
    {
     "name": "stdout",
     "output_type": "stream",
     "text": [
      "Winner! Round: 27 Random Number: 96 Score: 63552\n",
      "Winner! Round: 28 Random Number: 17 Score: 11441\n",
      "Winner! Round: 32 Random Number: 98 Score: 57134\n",
      "Winner! Round: 32 Random Number: 98 Score: 65464\n",
      "Winner! Round: 40 Random Number: 49 Score: 30821\n",
      "Winner! Round: 40 Random Number: 49 Score: 31213\n",
      "Winner! Round: 41 Random Number: 22 Score: 11638\n",
      "Winner! Round: 41 Random Number: 22 Score: 12518\n",
      "Winner! Round: 43 Random Number: 82 Score: 39196\n",
      "Winner! Round: 46 Random Number: 52 Score: 38532\n",
      "Winner! Round: 47 Random Number: 3 Score: 1683\n",
      "Winner! Round: 47 Random Number: 3 Score: 1488\n",
      "Winner! Round: 48 Random Number: 26 Score: 12662\n",
      "Winner! Round: 48 Random Number: 26 Score: 14586\n",
      "Winner! Round: 49 Random Number: 9 Score: 4491\n",
      "Winner! Round: 49 Random Number: 9 Score: 5184\n",
      "Winner! Round: 50 Random Number: 32 Score: 13184\n",
      "Winner! Round: 50 Random Number: 32 Score: 18176\n",
      "Winner! Round: 50 Random Number: 32 Score: 15872\n",
      "Winner! Round: 51 Random Number: 4 Score: 2448\n",
      "Winner! Round: 51 Random Number: 4 Score: 1840\n",
      "Winner! Round: 52 Random Number: 48 Score: 25632\n",
      "Winner! Round: 52 Random Number: 48 Score: 28032\n",
      "Winner! Round: 52 Random Number: 48 Score: 34656\n",
      "Winner! Round: 52 Random Number: 48 Score: 27936\n",
      "Winner! Round: 52 Random Number: 48 Score: 24816\n",
      "Winner! Round: 53 Random Number: 39 Score: 17355\n",
      "Winner! Round: 53 Random Number: 39 Score: 21489\n",
      "Winner! Round: 53 Random Number: 39 Score: 18408\n",
      "Winner! Round: 54 Random Number: 50 Score: 25250\n",
      "Winner! Round: 54 Random Number: 50 Score: 22900\n",
      "Winner! Round: 55 Random Number: 80 Score: 39680\n",
      "Winner! Round: 55 Random Number: 80 Score: 26240\n",
      "Winner! Round: 55 Random Number: 80 Score: 23280\n",
      "Winner! Round: 55 Random Number: 80 Score: 46960\n",
      "Winner! Round: 55 Random Number: 80 Score: 52240\n",
      "Winner! Round: 55 Random Number: 80 Score: 54480\n",
      "Winner! Round: 55 Random Number: 80 Score: 26880\n",
      "Winner! Round: 55 Random Number: 80 Score: 53920\n",
      "Winner! Round: 56 Random Number: 21 Score: 6846\n",
      "Winner! Round: 56 Random Number: 21 Score: 8715\n",
      "Winner! Round: 57 Random Number: 5 Score: 1205\n",
      "Winner! Round: 57 Random Number: 5 Score: 2500\n",
      "Winner! Round: 57 Random Number: 5 Score: 1765\n",
      "Winner! Round: 57 Random Number: 5 Score: 2515\n",
      "Winner! Round: 57 Random Number: 5 Score: 1550\n",
      "Winner! Round: 58 Random Number: 1 Score: 386\n",
      "Winner! Round: 58 Random Number: 1 Score: 324\n",
      "Winner! Round: 58 Random Number: 1 Score: 286\n",
      "Winner! Round: 58 Random Number: 1 Score: 324\n",
      "Winner! Round: 58 Random Number: 1 Score: 520\n",
      "Winner! Round: 59 Random Number: 23 Score: 8832\n",
      "Winner! Round: 59 Random Number: 23 Score: 10833\n",
      "Winner! Round: 59 Random Number: 23 Score: 8855\n",
      "Winner! Round: 59 Random Number: 23 Score: 7866\n",
      "Winner! Round: 60 Random Number: 10 Score: 4340\n",
      "Winner! Round: 60 Random Number: 10 Score: 5030\n",
      "Winner! Round: 60 Random Number: 10 Score: 4710\n",
      "Winner! Round: 60 Random Number: 10 Score: 6240\n",
      "Winner! Round: 62 Random Number: 34 Score: 11424\n",
      "Winner! Round: 62 Random Number: 34 Score: 23324\n",
      "Winner! Round: 62 Random Number: 34 Score: 16558\n",
      "Winner! Round: 62 Random Number: 34 Score: 20468\n",
      "Winner! Round: 63 Random Number: 12 Score: 5700\n",
      "Winner! Round: 63 Random Number: 12 Score: 6852\n",
      "Winner! Round: 63 Random Number: 12 Score: 4464\n",
      "Winner! Round: 63 Random Number: 12 Score: 3768\n",
      "Winner! Round: 64 Random Number: 35 Score: 12075\n",
      "Winner! Round: 65 Random Number: 74 Score: 50394\n",
      "Winner! Round: 65 Random Number: 74 Score: 26714\n",
      "Winner! Round: 65 Random Number: 74 Score: 34262\n",
      "Winner! Round: 65 Random Number: 74 Score: 44252\n",
      "Winner! Round: 66 Random Number: 8 Score: 3200\n",
      "Winner! Round: 66 Random Number: 8 Score: 3432\n",
      "Winner! Round: 66 Random Number: 8 Score: 2792\n",
      "Winner! Round: 66 Random Number: 8 Score: 3664\n",
      "Winner! Round: 67 Random Number: 6 Score: 3336\n",
      "Winner! Round: 67 Random Number: 6 Score: 2388\n",
      "Winner! Round: 68 Random Number: 79 Score: 44082\n",
      "Winner! Round: 68 Random Number: 79 Score: 23226\n",
      "Winner! Round: 68 Random Number: 79 Score: 32706\n",
      "Winner! Round: 69 Random Number: 40 Score: 19120\n",
      "Winner! Round: 69 Random Number: 40 Score: 16000\n",
      "Winner! Round: 69 Random Number: 40 Score: 14360\n",
      "Winner! Round: 70 Random Number: 76 Score: 34808\n",
      "Winner! Round: 70 Random Number: 76 Score: 35644\n",
      "Winner! Round: 71 Random Number: 86 Score: 31820\n",
      "Winner! Round: 72 Random Number: 69 Score: 25185\n",
      "Winner! Round: 73 Random Number: 81 Score: 51192\n",
      "Winner! Round: 74 Random Number: 61 Score: 23302\n",
      "Winner! Round: 74 Random Number: 61 Score: 24095\n",
      "Winner! Round: 75 Random Number: 14 Score: 3136\n",
      "Winner! Round: 76 Random Number: 92 Score: 33948\n",
      "Winner! Round: 76 Random Number: 92 Score: 32752\n",
      "Winner! Round: 76 Random Number: 92 Score: 38824\n",
      "Winner! Round: 79 Random Number: 7 Score: 2506\n",
      "Winner! Round: 81 Random Number: 33 Score: 10164\n",
      "Winner! Round: 81 Random Number: 33 Score: 6567\n",
      "Winner! Round: 83 Random Number: 77 Score: 26796\n",
      "Winner! Round: 85 Random Number: 20 Score: 9020\n"
     ]
    },
    {
     "data": {
      "text/plain": [
       "9020"
      ]
     },
     "execution_count": 4,
     "metadata": {},
     "output_type": "execute_result"
    }
   ],
   "source": [
    "bingos = []\n",
    "for x in data.split('\\n\\n')[1:]:\n",
    "    bingo = [[[int(i), False] for i in row.split(' ') if i] for row in x.split('\\n')]\n",
    "    bingos.append(bingo)\n",
    "    \n",
    "scores = []\n",
    "\n",
    "for i, rn in enumerate(random_numbers):\n",
    "    \n",
    "    if len(bingos) == 0:\n",
    "        break\n",
    "        \n",
    "    play_next_round = []\n",
    "    win = False\n",
    "    for bn, bingo in enumerate(bingos):\n",
    "        \n",
    "        win = mark_and_check(bingo, rn)\n",
    "        \n",
    "        if (win):\n",
    "            unmarked_sum = sum([sum([x[0] for x in row if not x[1]]) for row in bingo])\n",
    "            scores += [rn * unmarked_sum]\n",
    "            print('Winner! Round:', i + 1, 'Random Number:', rn, 'Score:', rn * unmarked_sum)\n",
    "        else:\n",
    "            play_next_round += [bingo]\n",
    "            \n",
    "    bingos = play_next_round\n",
    "    \n",
    "\n",
    "scores[-1]"
   ]
  }
 ],
 "metadata": {
  "kernelspec": {
   "display_name": "Python 3 (ipykernel)",
   "language": "python",
   "name": "python3"
  },
  "language_info": {
   "codemirror_mode": {
    "name": "ipython",
    "version": 3
   },
   "file_extension": ".py",
   "mimetype": "text/x-python",
   "name": "python",
   "nbconvert_exporter": "python",
   "pygments_lexer": "ipython3",
   "version": "3.9.6"
  }
 },
 "nbformat": 4,
 "nbformat_minor": 5
}
