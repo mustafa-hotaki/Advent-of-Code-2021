{
 "cells": [
  {
   "cell_type": "markdown",
   "id": "f8ec8752",
   "metadata": {},
   "source": [
    "# Advent of Code 2021 - Day 11"
   ]
  },
  {
   "cell_type": "code",
   "execution_count": 1,
   "id": "a36576a2",
   "metadata": {},
   "outputs": [
    {
     "data": {
      "text/plain": [
       "[[8, 2, 6, 1, 3, 4, 4, 6, 5, 6],\n",
       " [7, 7, 7, 3, 3, 5, 1, 1, 7, 5],\n",
       " [7, 5, 2, 7, 8, 5, 6, 8, 5, 2],\n",
       " [1, 7, 6, 3, 6, 1, 4, 6, 7, 3],\n",
       " [8, 6, 7, 4, 5, 5, 6, 7, 4, 3],\n",
       " [6, 8, 5, 3, 3, 8, 2, 1, 5, 3],\n",
       " [4, 1, 3, 5, 8, 5, 2, 3, 8, 8],\n",
       " [2, 8, 4, 6, 7, 1, 5, 5, 2, 2],\n",
       " [7, 4, 7, 7, 4, 2, 5, 8, 6, 3],\n",
       " [4, 7, 2, 3, 8, 8, 8, 8, 8, 8]]"
      ]
     },
     "execution_count": 1,
     "metadata": {},
     "output_type": "execute_result"
    }
   ],
   "source": [
    "EXAMPLE = 0\n",
    "filename = \"input.txt\"\n",
    "if EXAMPLE: filename = \"example.txt\"\n",
    "    \n",
    "data = []\n",
    "with open(filename, \"r\") as f:\n",
    "    for line in f:\n",
    "        data.append(line.strip())\n",
    "\n",
    "octomap = [[(int(d)) for d in x] for x in data]\n",
    "octomap"
   ]
  },
  {
   "cell_type": "code",
   "execution_count": 2,
   "id": "43a8fe67",
   "metadata": {},
   "outputs": [
    {
     "data": {
      "text/plain": [
       "[(-1, -1), (-1, 0), (-1, 1), (0, -1), (0, 1), (1, -1), (1, 0), (1, 1)]"
      ]
     },
     "execution_count": 2,
     "metadata": {},
     "output_type": "execute_result"
    }
   ],
   "source": [
    "def find_neighbors(loc):\n",
    "\n",
    "    def of_bucket(buckets):\n",
    "        for bucket_item in buckets[0]:\n",
    "            if len(buckets) > 1 :\n",
    "                for result in of_bucket(buckets[1:]):\n",
    "                    yield [bucket_item] + result\n",
    "            else:\n",
    "                yield [bucket_item]\n",
    "\n",
    "    buckets = [[coord - 1, coord, coord + 1] for coord in loc]\n",
    "    neighbor_locations = [tuple(comb) for comb in of_bucket(buckets) if tuple(comb) != loc]\n",
    "\n",
    "    return neighbor_locations\n",
    "\n",
    "find_neighbors((0,0))"
   ]
  },
  {
   "cell_type": "code",
   "execution_count": 3,
   "id": "26665ea9",
   "metadata": {},
   "outputs": [],
   "source": [
    "def flash(i, j, octomap):\n",
    "    \n",
    "    neighbors_coordinates = find_neighbors((i, j))\n",
    "    \n",
    "    to_flash = []\n",
    "    for a, b in neighbors_coordinates:\n",
    "            if a in range(len(octomap)) and b in range(len(row)):\n",
    "                valid_neighbor = octomap[a][b]\n",
    "                octomap[a][b] += 1\n",
    "                if octomap[a][b] == 10: # If it is 10, it was just incremented. If it is greater, it is already either flashed or will be flashed\n",
    "                    to_flash += [(a, b)]\n",
    "\n",
    "    for x in to_flash:\n",
    "        flash(x[0], x[1], octomap)\n",
    "                        "
   ]
  },
  {
   "cell_type": "markdown",
   "id": "4cc18881",
   "metadata": {},
   "source": [
    "## Part 1"
   ]
  },
  {
   "cell_type": "code",
   "execution_count": 4,
   "id": "e866be09",
   "metadata": {},
   "outputs": [
    {
     "data": {
      "text/plain": [
       "0"
      ]
     },
     "execution_count": 4,
     "metadata": {},
     "output_type": "execute_result"
    }
   ],
   "source": [
    "octomap = [[(int(d)) for d in x] for x in data]\n",
    "\n",
    "flash_counter = 0\n",
    "for step in range(1):\n",
    "\n",
    "    for i, row in enumerate(octomap):\n",
    "        for j, col in enumerate(row):        \n",
    "            octomap[i][j] += 1\n",
    "\n",
    "    to_flash = []\n",
    "    for i, row in enumerate(octomap):\n",
    "        for j, col in enumerate(row):  \n",
    "            if octomap[i][j] > 9:\n",
    "                to_flash += [(i, j)]\n",
    "\n",
    "    for i, j in to_flash:\n",
    "        flash(i, j, octomap)\n",
    "    \n",
    "    for i, row in enumerate(octomap):\n",
    "        for j, col in enumerate(row):  \n",
    "            if octomap[i][j] > 9:\n",
    "                flash_counter += 1\n",
    "                octomap[i][j] = 0\n",
    "                \n",
    "flash_counter"
   ]
  },
  {
   "cell_type": "markdown",
   "id": "e02e811f",
   "metadata": {},
   "source": [
    "## Part 2"
   ]
  },
  {
   "cell_type": "code",
   "execution_count": 5,
   "id": "abf2a2a1",
   "metadata": {},
   "outputs": [
    {
     "data": {
      "text/plain": [
       "256"
      ]
     },
     "execution_count": 5,
     "metadata": {},
     "output_type": "execute_result"
    }
   ],
   "source": [
    "octomap = [[(int(d)) for d in x] for x in data]\n",
    "flash_counter = 0\n",
    "step = 0\n",
    "\n",
    "while(True):\n",
    "    step += 1\n",
    "    for i, row in enumerate(octomap):\n",
    "        for j, col in enumerate(row):        \n",
    "            octomap[i][j] += 1\n",
    "\n",
    "    to_flash = []\n",
    "    for i, row in enumerate(octomap):\n",
    "        for j, col in enumerate(row):  \n",
    "            if octomap[i][j] > 9:\n",
    "                to_flash += [(i, j)]\n",
    "\n",
    "    for i, j in to_flash:\n",
    "        flash(i, j, octomap)\n",
    "    \n",
    "    for i, row in enumerate(octomap):\n",
    "        for j, col in enumerate(row):  \n",
    "            if octomap[i][j] > 9:\n",
    "                flash_counter += 1\n",
    "                octomap[i][j] = 0\n",
    "                \n",
    "    zeros = 0\n",
    "    for i, row in enumerate(octomap):\n",
    "        for j, col in enumerate(row):  \n",
    "            if octomap[i][j] == 0:\n",
    "                zeros += 1\n",
    "                \n",
    "    if zeros == len(octomap) * len(octomap):\n",
    "        break        \n",
    "            \n",
    "step"
   ]
  }
 ],
 "metadata": {
  "kernelspec": {
   "display_name": "Python 3 (ipykernel)",
   "language": "python",
   "name": "python3"
  },
  "language_info": {
   "codemirror_mode": {
    "name": "ipython",
    "version": 3
   },
   "file_extension": ".py",
   "mimetype": "text/x-python",
   "name": "python",
   "nbconvert_exporter": "python",
   "pygments_lexer": "ipython3",
   "version": "3.9.6"
  }
 },
 "nbformat": 4,
 "nbformat_minor": 5
}
