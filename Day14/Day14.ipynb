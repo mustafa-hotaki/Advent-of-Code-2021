{
 "cells": [
  {
   "cell_type": "markdown",
   "id": "f8ec8752",
   "metadata": {},
   "source": [
    "# Advent of Code 2021 - Day 14"
   ]
  },
  {
   "cell_type": "code",
   "execution_count": 1,
   "id": "a36576a2",
   "metadata": {},
   "outputs": [],
   "source": [
    "EXAMPLE = 0\n",
    "filename = \"input.txt\"\n",
    "if EXAMPLE: filename = \"example.txt\"\n",
    "    \n",
    "data = ''\n",
    "with open(filename, \"r\") as f:\n",
    "    for line in f:\n",
    "        data += line"
   ]
  },
  {
   "cell_type": "code",
   "execution_count": 2,
   "id": "e3bd7122",
   "metadata": {},
   "outputs": [
    {
     "data": {
      "text/plain": [
       "['F', 'N', 'F', 'P', 'P', 'N', 'K', 'P', 'P', 'H']"
      ]
     },
     "execution_count": 2,
     "metadata": {},
     "output_type": "execute_result"
    }
   ],
   "source": [
    "raw = data.split('\\n\\n')\n",
    "polymer = [x for x in raw[0]]\n",
    "polymer [:10]"
   ]
  },
  {
   "cell_type": "code",
   "execution_count": 3,
   "id": "21e1c086",
   "metadata": {},
   "outputs": [],
   "source": [
    "rules = {tuple([e for e in  x.split(' -> ')[0]]) : x.split(' -> ')[1] for x in raw[1].split('\\n')}"
   ]
  },
  {
   "cell_type": "code",
   "execution_count": 4,
   "id": "0f6aeee9",
   "metadata": {},
   "outputs": [],
   "source": [
    "letters = set([x[0] for x in rules] + [x[1] for x in rules] + [rules[x] for x in rules])"
   ]
  },
  {
   "cell_type": "markdown",
   "id": "4cc18881",
   "metadata": {},
   "source": [
    "## Part 1"
   ]
  },
  {
   "cell_type": "code",
   "execution_count": 5,
   "id": "a27f12c4",
   "metadata": {},
   "outputs": [
    {
     "data": {
      "text/plain": [
       "2975"
      ]
     },
     "execution_count": 5,
     "metadata": {},
     "output_type": "execute_result"
    }
   ],
   "source": [
    "polymer = [x for x in raw[0]]\n",
    "\n",
    "for step in range(10):\n",
    "    pairs = [x for x in zip(polymer, polymer[1:])]\n",
    "    new_polymer = []\n",
    "    for pair in pairs:\n",
    "        new = pair[0] + rules[pair]\n",
    "        new_polymer += [x for x in new]\n",
    "\n",
    "    new_polymer += [polymer[-1]]\n",
    "    polymer = new_polymer\n",
    "    \n",
    "from collections import Counter\n",
    "counts = Counter(polymer).most_common()\n",
    "counts[0][1] - counts[-1][1]"
   ]
  },
  {
   "cell_type": "markdown",
   "id": "e02e811f",
   "metadata": {},
   "source": [
    "## Part 2"
   ]
  },
  {
   "cell_type": "code",
   "execution_count": 6,
   "id": "c9cf4424",
   "metadata": {},
   "outputs": [
    {
     "name": "stdout",
     "output_type": "stream",
     "text": [
      "pairs {'PP': 2, 'KF': 1, 'NF': 1, 'PN': 1, 'FN': 1, 'FO': 1, 'HS': 1, 'OF': 1, 'FP': 1, 'NK': 1, 'FH': 1, 'FF': 1, 'SO': 1, 'KP': 1, 'HO': 1, 'OK': 1, 'OC': 1, 'PH': 1}\n"
     ]
    }
   ],
   "source": [
    "polymer = [x for x in raw[0]]\n",
    "\n",
    "letter_counts = {x : 0 for x in letters}\n",
    "counts = Counter(polymer)\n",
    "for x in counts:\n",
    "    letter_counts[x] = counts[x]\n",
    "\n",
    "pairs = {x : 0 for x in rules}\n",
    "counts = Counter([x for x in zip(polymer, polymer[1:])])\n",
    "for x in counts:\n",
    "    pairs[x] = counts[x]\n",
    "    \n",
    "print('pairs', {''.join(x) : pairs[x] for x in pairs if pairs[x] >= 1})"
   ]
  },
  {
   "cell_type": "code",
   "execution_count": 7,
   "id": "eb75d4b4",
   "metadata": {
    "scrolled": true
   },
   "outputs": [],
   "source": [
    "for step in range(40):\n",
    "    new_pairs = {x : 0 for x in rules}\n",
    "    for pair in pairs:\n",
    "        \n",
    "        if pairs[pair] >= 1:\n",
    "            val = rules[pair]\n",
    "            \n",
    "            new_pairs_out_of_this_pair = [(pair[0], val), (val, pair[1])]\n",
    "            \n",
    "            letter_counts[val] += pairs[pair]\n",
    "            \n",
    "            for new_pair in new_pairs_out_of_this_pair:\n",
    "                new_pairs[new_pair] += pairs[pair]\n",
    "    \n",
    "    pairs = new_pairs"
   ]
  },
  {
   "cell_type": "code",
   "execution_count": 8,
   "id": "47ec0fb8",
   "metadata": {},
   "outputs": [
    {
     "data": {
      "text/plain": [
       "3015383850689"
      ]
     },
     "execution_count": 8,
     "metadata": {},
     "output_type": "execute_result"
    }
   ],
   "source": [
    "letter_counts_values = letter_counts.values()\n",
    "max(letter_counts_values) - min(letter_counts_values)"
   ]
  }
 ],
 "metadata": {
  "kernelspec": {
   "display_name": "Python 3 (ipykernel)",
   "language": "python",
   "name": "python3"
  },
  "language_info": {
   "codemirror_mode": {
    "name": "ipython",
    "version": 3
   },
   "file_extension": ".py",
   "mimetype": "text/x-python",
   "name": "python",
   "nbconvert_exporter": "python",
   "pygments_lexer": "ipython3",
   "version": "3.9.6"
  }
 },
 "nbformat": 4,
 "nbformat_minor": 5
}
