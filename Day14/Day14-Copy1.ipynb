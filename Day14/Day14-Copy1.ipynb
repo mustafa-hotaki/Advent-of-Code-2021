{
 "cells": [
  {
   "cell_type": "markdown",
   "id": "f8ec8752",
   "metadata": {},
   "source": [
    "# Advent of Code 2021 - Day 14"
   ]
  },
  {
   "cell_type": "code",
   "execution_count": 1,
   "id": "a36576a2",
   "metadata": {},
   "outputs": [
    {
     "data": {
      "text/plain": [
       "'FNFPPNKPPHSOKFFHOFOC\\n\\nVS -> B\\nSV -> C\\nPP -> N\\nNS -> N\\nBC -> N\\nPB -> F\\nBK -> P\\nNV -> V\\nKF -> C\\nKS -> C\\nPV -> N\\nNF -> S\\nPK -> F\\nSC -> F\\nKN -> K\\nPN -> K\\nOH -> F\\nPS -> P\\nFN -> O\\nOP -> B\\nFO -> C\\nHS -> F\\nVO -> C\\nOS -> B\\nPF -> V\\nSB -> V\\nKO -> O\\nSK -> N\\nKB -> F\\nKH -> C\\nCC -> B\\nCS -> C\\nOF -> C\\nFS -> B\\nFP -> H\\nVN -> O\\nNB -> N\\nBS -> H\\nPC -> H\\nOO -> F\\nBF -> O\\nHC -> P\\nBH -> S\\nNP -> P\\nFB -> C\\nCB -> H\\nBO -> C\\nNN -> V\\nSF -> N\\nFC -> F\\nKK -> C\\nCN -> N\\nBV -> F\\nFK -> C\\nCF -> F\\nVV -> B\\nVF -> S\\nCK -> C\\nOV -> P\\nNC -> N\\nSS -> F\\nNK -> V\\nHN -> O\\nON -> P\\nFH -> O\\nOB -> H\\nSH -> H\\nNH -> V\\nFF -> B\\nHP -> B\\nPO -> P\\nHB -> H\\nCH -> N\\nSN -> P\\nHK -> P\\nFV -> H\\nSO -> O\\nVH -> V\\nBP -> V\\nCV -> P\\nKP -> K\\nVB -> N\\nHV -> K\\nSP -> N\\nHO -> P\\nCP -> H\\nVC -> N\\nCO -> S\\nBN -> H\\nNO -> B\\nHF -> O\\nVP -> K\\nKV -> H\\nKC -> F\\nHH -> C\\nBB -> K\\nVK -> P\\nOK -> C\\nOC -> C\\nPH -> H'"
      ]
     },
     "execution_count": 1,
     "metadata": {},
     "output_type": "execute_result"
    }
   ],
   "source": [
    "EXAMPLE = 0\n",
    "filename = \"input.txt\"\n",
    "if EXAMPLE: filename = \"example.txt\"\n",
    "    \n",
    "data = ''\n",
    "with open(filename, \"r\") as f:\n",
    "    for line in f:\n",
    "        data += line\n",
    "        \n",
    "data"
   ]
  },
  {
   "cell_type": "code",
   "execution_count": 2,
   "id": "09782c65",
   "metadata": {},
   "outputs": [
    {
     "data": {
      "text/plain": [
       "['F',\n",
       " 'N',\n",
       " 'F',\n",
       " 'P',\n",
       " 'P',\n",
       " 'N',\n",
       " 'K',\n",
       " 'P',\n",
       " 'P',\n",
       " 'H',\n",
       " 'S',\n",
       " 'O',\n",
       " 'K',\n",
       " 'F',\n",
       " 'F',\n",
       " 'H',\n",
       " 'O',\n",
       " 'F',\n",
       " 'O',\n",
       " 'C']"
      ]
     },
     "execution_count": 2,
     "metadata": {},
     "output_type": "execute_result"
    }
   ],
   "source": [
    "raw = data.split('\\n\\n')\n",
    "polymer = [x for x in raw[0]]\n",
    "polymer"
   ]
  },
  {
   "cell_type": "code",
   "execution_count": 3,
   "id": "12b8b341",
   "metadata": {},
   "outputs": [
    {
     "data": {
      "text/plain": [
       "{'VS': 'B',\n",
       " 'SV': 'C',\n",
       " 'PP': 'N',\n",
       " 'NS': 'N',\n",
       " 'BC': 'N',\n",
       " 'PB': 'F',\n",
       " 'BK': 'P',\n",
       " 'NV': 'V',\n",
       " 'KF': 'C',\n",
       " 'KS': 'C',\n",
       " 'PV': 'N',\n",
       " 'NF': 'S',\n",
       " 'PK': 'F',\n",
       " 'SC': 'F',\n",
       " 'KN': 'K',\n",
       " 'PN': 'K',\n",
       " 'OH': 'F',\n",
       " 'PS': 'P',\n",
       " 'FN': 'O',\n",
       " 'OP': 'B',\n",
       " 'FO': 'C',\n",
       " 'HS': 'F',\n",
       " 'VO': 'C',\n",
       " 'OS': 'B',\n",
       " 'PF': 'V',\n",
       " 'SB': 'V',\n",
       " 'KO': 'O',\n",
       " 'SK': 'N',\n",
       " 'KB': 'F',\n",
       " 'KH': 'C',\n",
       " 'CC': 'B',\n",
       " 'CS': 'C',\n",
       " 'OF': 'C',\n",
       " 'FS': 'B',\n",
       " 'FP': 'H',\n",
       " 'VN': 'O',\n",
       " 'NB': 'N',\n",
       " 'BS': 'H',\n",
       " 'PC': 'H',\n",
       " 'OO': 'F',\n",
       " 'BF': 'O',\n",
       " 'HC': 'P',\n",
       " 'BH': 'S',\n",
       " 'NP': 'P',\n",
       " 'FB': 'C',\n",
       " 'CB': 'H',\n",
       " 'BO': 'C',\n",
       " 'NN': 'V',\n",
       " 'SF': 'N',\n",
       " 'FC': 'F',\n",
       " 'KK': 'C',\n",
       " 'CN': 'N',\n",
       " 'BV': 'F',\n",
       " 'FK': 'C',\n",
       " 'CF': 'F',\n",
       " 'VV': 'B',\n",
       " 'VF': 'S',\n",
       " 'CK': 'C',\n",
       " 'OV': 'P',\n",
       " 'NC': 'N',\n",
       " 'SS': 'F',\n",
       " 'NK': 'V',\n",
       " 'HN': 'O',\n",
       " 'ON': 'P',\n",
       " 'FH': 'O',\n",
       " 'OB': 'H',\n",
       " 'SH': 'H',\n",
       " 'NH': 'V',\n",
       " 'FF': 'B',\n",
       " 'HP': 'B',\n",
       " 'PO': 'P',\n",
       " 'HB': 'H',\n",
       " 'CH': 'N',\n",
       " 'SN': 'P',\n",
       " 'HK': 'P',\n",
       " 'FV': 'H',\n",
       " 'SO': 'O',\n",
       " 'VH': 'V',\n",
       " 'BP': 'V',\n",
       " 'CV': 'P',\n",
       " 'KP': 'K',\n",
       " 'VB': 'N',\n",
       " 'HV': 'K',\n",
       " 'SP': 'N',\n",
       " 'HO': 'P',\n",
       " 'CP': 'H',\n",
       " 'VC': 'N',\n",
       " 'CO': 'S',\n",
       " 'BN': 'H',\n",
       " 'NO': 'B',\n",
       " 'HF': 'O',\n",
       " 'VP': 'K',\n",
       " 'KV': 'H',\n",
       " 'KC': 'F',\n",
       " 'HH': 'C',\n",
       " 'BB': 'K',\n",
       " 'VK': 'P',\n",
       " 'OK': 'C',\n",
       " 'OC': 'C',\n",
       " 'PH': 'H'}"
      ]
     },
     "execution_count": 3,
     "metadata": {},
     "output_type": "execute_result"
    }
   ],
   "source": [
    "rules = {x.split(' -> ')[0]:x.split(' -> ')[1] for x in raw[1].split('\\n')}\n",
    "rules"
   ]
  },
  {
   "cell_type": "markdown",
   "id": "4cc18881",
   "metadata": {},
   "source": [
    "## Part 1"
   ]
  },
  {
   "cell_type": "code",
   "execution_count": 6,
   "id": "35022f08",
   "metadata": {},
   "outputs": [
    {
     "name": "stdout",
     "output_type": "stream",
     "text": [
      "FONSFHPNPKNVKKPNPHHFSOOCKCFBFOHPOCFCOCC\n",
      "size 39\n",
      "FCOPNNSNFOHBPKNPPFKKNVVPKCKKPKNPPHHCHOFBSOOFOCCCKFCFFCBOFCOFHBPPOCCFFFCSOCCBC\n",
      "size 77\n",
      "FFCSOBPKNVNNSPNSFCOFHHBVPFKKNPPNPVFCKCKKNVVBVKPFKFCCKCKKPFKKNPPNPHHCHPCNHPOCFCBHSOOFOCFCOCCBCBCCKCFFCFFBFFCHBCOCFFCSOCFOHHBVPNPPOCCBCFFBFBFFCCSOOCCBCHBNC\n",
      "size 153\n",
      "FBFFCCSOOHBVPFKKNVVONVNNSNPKNNSNFFCSOCFOHCHHBFVKPVFCKCKKNPPNPKNPPNVSFFCCKFCCKCKKNVVBVNBFVPKKPVFCKCFFCBCCKFCCKCKKPVFCKCKKNPPNPKNPPHHCHPCNHBPHCNNVHBPPOCCFFFCHBSHFSOOFOCFCOCCFFFCSOCCBCHBNCHBNCBCCKFCFFBFFCFFBFCBOFBFFCNHHBNCSOCCFFBFFCCSOOCCFFCOFHCHHBFVKPKNPPNPPOCCBCHBNCFFBFCBOFCBOFBFFCBCCSOOFOCCBCHBNCNHHBHNNC\n",
      "size 305\n",
      "FCBOFBFFCBCCSOOFOFHHBFVKPVFCKCKKNVVBVCOPNVVONVNNSPNPPFKKNVNNSPNSFBFFCCSOOCCFFCOFHPCNHCHHBOFHVPKKPNVSFFCCKFCCKCKKNPPNPKNPPFKKNPPNPKNVVBSNFBFFCBCCKCFFCBCCKFCCKCKKNVVBVNBFVONNBOFHVKPFKCKKPNVSFFCCKFCFFBFFCHBNCBCCKCFFCBCCKFCCKCKKPNVSFFCCKFCCKCKKNPPNPKNPPFKKNPPNPHHCHPCNHBPHCNNVHHBVPHHPCNNVNVVVHHBVPNPPOCCBCFFBFBFFCNHHBHSHHOFBSOOFOCFCOCCFFFCSOCCBCFFBFBFFCCSOOCCBCHBNCNHHBHNNCNHHBHNNCHBNCBCCKCFFCFFBFCBOFBFFCFFBFCBOFFCHBCOCFCBOFBFFCNNVHCHHBHNNCCSOOCCBCFFBFCBOFBFFCBCCSOOFOCCBCFFBFFCSOCFOHPCNHCHHBOFHVPKKPFKKNPPNPKNPPNPPOCCBCHBNCNHHBHNNCFFBFCBOFFCHBCOCFFCHBCOCFCBOFBFFCHBNCBCCSOOFOCFCOCCBCHBNCNHHBHNNCNNVHCHHBSHONVNNC\n",
      "size 609\n"
     ]
    }
   ],
   "source": [
    "raw = data.split('\\n\\n')\n",
    "polymer = [x for x in raw[0]]\n",
    "polymer\n",
    "\n",
    "for step in range(5):\n",
    "    pairs = [x for x in zip(polymer, polymer[1:])] \n",
    "    new_polymer = []\n",
    "    for pair in pairs:\n",
    "        key = pair[0] + pair[1]\n",
    "        #print('key', key, rules[key])\n",
    "\n",
    "        new = pair[0] + rules[key]\n",
    "        new_polymer += [new]\n",
    "\n",
    "    new_polymer_string = ''.join(new_polymer) + polymer[-1]\n",
    "    polymer = [x for x in new_polymer_string]\n",
    "    print(new_polymer_string)\n",
    "    print('size', len(polymer))\n",
    "    \n"
   ]
  },
  {
   "cell_type": "code",
   "execution_count": 66,
   "id": "779076a7",
   "metadata": {},
   "outputs": [
    {
     "data": {
      "text/plain": [
       "2975"
      ]
     },
     "execution_count": 66,
     "metadata": {},
     "output_type": "execute_result"
    }
   ],
   "source": [
    "from collections import Counter\n",
    "counts = Counter(polymer).most_common()\n",
    "counts[0][1] - counts[-1][1]"
   ]
  },
  {
   "cell_type": "markdown",
   "id": "e02e811f",
   "metadata": {},
   "source": [
    "## Part 2"
   ]
  },
  {
   "cell_type": "code",
   "execution_count": null,
   "id": "e9b3dfe7",
   "metadata": {},
   "outputs": [],
   "source": []
  },
  {
   "cell_type": "code",
   "execution_count": null,
   "id": "26496b82",
   "metadata": {},
   "outputs": [],
   "source": []
  }
 ],
 "metadata": {
  "kernelspec": {
   "display_name": "Python 3 (ipykernel)",
   "language": "python",
   "name": "python3"
  },
  "language_info": {
   "codemirror_mode": {
    "name": "ipython",
    "version": 3
   },
   "file_extension": ".py",
   "mimetype": "text/x-python",
   "name": "python",
   "nbconvert_exporter": "python",
   "pygments_lexer": "ipython3",
   "version": "3.9.6"
  }
 },
 "nbformat": 4,
 "nbformat_minor": 5
}
