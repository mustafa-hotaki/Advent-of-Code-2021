{
 "cells": [
  {
   "cell_type": "markdown",
   "id": "f8ec8752",
   "metadata": {},
   "source": [
    "# Advent of Code 2021 - Day 1"
   ]
  },
  {
   "cell_type": "code",
   "execution_count": 1,
   "id": "a36576a2",
   "metadata": {},
   "outputs": [
    {
     "name": "stdout",
     "output_type": "stream",
     "text": [
      "First 10 data points: [157, 158, 167, 157, 148, 154, 155, 156, 151, 126]\n",
      "Number of data points: 2000\n"
     ]
    }
   ],
   "source": [
    "data = []\n",
    "with open(\"inputs_day_1.txt\", \"r\") as f:\n",
    "    for line in f:\n",
    "        data.append(int(line.strip()))\n",
    "\n",
    "print('First 10 data points:', data[:10])\n",
    "print('Number of data points:', len(data))"
   ]
  },
  {
   "cell_type": "code",
   "execution_count": 2,
   "id": "bc27ee73",
   "metadata": {},
   "outputs": [],
   "source": [
    "example_data = [199, 200, 208, 210, 200, 207, 240, 269, 260, 263]"
   ]
  },
  {
   "cell_type": "markdown",
   "id": "4cc18881",
   "metadata": {},
   "source": [
    "## Part 1"
   ]
  },
  {
   "cell_type": "code",
   "execution_count": 3,
   "id": "633ae432",
   "metadata": {},
   "outputs": [
    {
     "data": {
      "text/plain": [
       "1292"
      ]
     },
     "execution_count": 3,
     "metadata": {},
     "output_type": "execute_result"
    }
   ],
   "source": [
    "def Compute_Sequence_Increases(sequence):\n",
    "    increases = 0\n",
    "    for i in range(1, len(sequence)):\n",
    "        increases += sequence[i] > sequence[i - 1]\n",
    "    return increases\n",
    "\n",
    "Compute_Sequence_Increases(data)"
   ]
  },
  {
   "cell_type": "markdown",
   "id": "e02e811f",
   "metadata": {},
   "source": [
    "## Part 2\n",
    "\n",
    "It was easier to compute a new sequence and apply the same procedure as Part 1."
   ]
  },
  {
   "cell_type": "code",
   "execution_count": 4,
   "id": "8f521980",
   "metadata": {},
   "outputs": [
    {
     "data": {
      "text/plain": [
       "1262"
      ]
     },
     "execution_count": 4,
     "metadata": {},
     "output_type": "execute_result"
    }
   ],
   "source": [
    "def Sliding_Window_Sums(sequence, sliding_window_size):\n",
    "    sliding_window_sums = []\n",
    "    for i in range(len(sequence) - sliding_window_size + 1):\n",
    "        sliding_window_sums.append(sum(sequence[i : i + sliding_window_size]))\n",
    "    return sliding_window_sums\n",
    "\n",
    "Compute_Sequence_Increases(Sliding_Window_Sums(data, 3))"
   ]
  }
 ],
 "metadata": {
  "kernelspec": {
   "display_name": "Python 3 (ipykernel)",
   "language": "python",
   "name": "python3"
  },
  "language_info": {
   "codemirror_mode": {
    "name": "ipython",
    "version": 3
   },
   "file_extension": ".py",
   "mimetype": "text/x-python",
   "name": "python",
   "nbconvert_exporter": "python",
   "pygments_lexer": "ipython3",
   "version": "3.9.6"
  }
 },
 "nbformat": 4,
 "nbformat_minor": 5
}
