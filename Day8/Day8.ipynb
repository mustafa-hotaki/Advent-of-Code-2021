{
 "cells": [
  {
   "cell_type": "markdown",
   "id": "f8ec8752",
   "metadata": {},
   "source": [
    "# Advent of Code 2021 - Day 8"
   ]
  },
  {
   "cell_type": "code",
   "execution_count": 1,
   "id": "a36576a2",
   "metadata": {},
   "outputs": [
    {
     "data": {
      "text/plain": [
       "['aedcg db ecbdgf badfegc abfcde edb cbgfe bfdg bdgec agfbce | ecagd gcbde dbcefa bgfd',\n",
       " 'bgeadf egcbda cfebg ac caefbdg bacd ecfgad cabeg gca abgde | gcbef befcg ac ac',\n",
       " 'cbfge ed aegbcd gfdba aedf facbdge fdegba bfgcda befdg dge | adbgef dfgbe dbgfe agdfb',\n",
       " 'efdga dgebfc cefa edgfc decbagf cdagfe ade bgafd ae cadbge | adfcegb dgcfabe ea cbfdge',\n",
       " 'fe bdcge ecfbdg ecf bdfe gdacbe gdefcab gfcad cdgef ceagbf | ef bdceg begdafc efgdc',\n",
       " 'gfacedb bfgadc fbdgec eagcb cdfe cd gcd afedbg bdceg gfdeb | dcg gecdb adebfg cdbeg',\n",
       " 'bfecadg fdbage bdgfca cfba fdceg acdgeb dfa af acgbd gadcf | fad bacf adbgce gbdafc',\n",
       " 'fbaeg dbcegf acgfbd gadbecf bfagce ge bedfa bfagc cage efg | adbef gfcdeb bdgcaf dbegfc',\n",
       " 'bcad gcefbad afbdg cgfea gfedba dcbegf dagbfc gfcab cb gcb | bc cbfadeg ecfdgb gbc',\n",
       " 'eabgcd eagfbd fdgb gbdea dbaecgf fbe bf fdcbea gfeba faegc | egafc fbdg dabgefc agdeb']"
      ]
     },
     "execution_count": 1,
     "metadata": {},
     "output_type": "execute_result"
    }
   ],
   "source": [
    "data = []\n",
    "with open(\"inputs_day_8.txt\", \"r\") as f:\n",
    "    for line in f:\n",
    "        data.append(line.strip())\n",
    "data[:10]"
   ]
  },
  {
   "cell_type": "code",
   "execution_count": 2,
   "id": "dedb9cb6",
   "metadata": {},
   "outputs": [
    {
     "data": {
      "text/plain": [
       "'ab'"
      ]
     },
     "execution_count": 2,
     "metadata": {},
     "output_type": "execute_result"
    }
   ],
   "source": [
    "''.join(['a', 'b'])"
   ]
  },
  {
   "cell_type": "code",
   "execution_count": 3,
   "id": "5209888b",
   "metadata": {},
   "outputs": [],
   "source": [
    "before = []\n",
    "after = []\n",
    "for x in data:\n",
    "    pieces = x.split(' | ')\n",
    "    b = pieces[0].split(' ')\n",
    "    before.append([''.join(sorted(x)) for x in b])\n",
    "    a = pieces[1].split(' ')\n",
    "    after.append([''.join(sorted(x)) for x in a])\n",
    "    "
   ]
  },
  {
   "cell_type": "code",
   "execution_count": 4,
   "id": "d09b5bcf",
   "metadata": {},
   "outputs": [
    {
     "data": {
      "text/plain": [
       "{'abcefg': 0,\n",
       " 'cf': 1,\n",
       " 'acdeg': 2,\n",
       " 'acdfg': 3,\n",
       " 'bcdf': 4,\n",
       " 'abdfg': 5,\n",
       " 'abdefg': 6,\n",
       " 'acf': 7,\n",
       " 'abcdefg': 8,\n",
       " 'abcdfg': 9}"
      ]
     },
     "execution_count": 4,
     "metadata": {},
     "output_type": "execute_result"
    }
   ],
   "source": [
    "nums_to_codes = {\n",
    "    0 : 'abcefg', #6\n",
    "    1 : 'cf', # 2\n",
    "    2 : 'acdeg', #5\n",
    "    3 : 'acdfg', #5\n",
    "    4 : 'bcdf', #4\n",
    "    5 : 'abdfg', #5\n",
    "    6 : 'abdefg', #6\n",
    "    7 : 'acf', # 3\n",
    "    8 : 'abcdefg', # 7\n",
    "    9 : 'abcdfg' #6\n",
    "}\n",
    "\n",
    "codes_to_nums = {nums_to_codes[key] : key for key in nums_to_codes}\n",
    "codes_to_nums"
   ]
  },
  {
   "cell_type": "code",
   "execution_count": 5,
   "id": "7839718c",
   "metadata": {},
   "outputs": [],
   "source": [
    "len_to_num = {\n",
    "    2: 1,\n",
    "    3: 7,\n",
    "    4: 4,\n",
    "    7: 8\n",
    "}"
   ]
  },
  {
   "cell_type": "markdown",
   "id": "4cc18881",
   "metadata": {},
   "source": [
    "## Part 1"
   ]
  },
  {
   "cell_type": "code",
   "execution_count": 6,
   "id": "35a93bb5",
   "metadata": {},
   "outputs": [
    {
     "data": {
      "text/plain": [
       "342"
      ]
     },
     "execution_count": 6,
     "metadata": {},
     "output_type": "execute_result"
    }
   ],
   "source": [
    "total = 0\n",
    "\n",
    "for x in after:\n",
    "    #print('x', x)\n",
    "    for e in x:\n",
    "        if len(e) in len_to_num:\n",
    "            total += 1\n",
    "        \n",
    "total"
   ]
  },
  {
   "cell_type": "markdown",
   "id": "e02e811f",
   "metadata": {},
   "source": [
    "## Part 2"
   ]
  },
  {
   "cell_type": "code",
   "execution_count": 7,
   "id": "39c4b0f3",
   "metadata": {},
   "outputs": [],
   "source": [
    "def of_bucket(buckets):\n",
    "    for bucket_item in buckets[0]:\n",
    "        if len(buckets) > 1 :\n",
    "            for result in of_bucket(buckets[1:]):\n",
    "                yield [bucket_item] + result\n",
    "        else:\n",
    "            yield [bucket_item]\n",
    "            "
   ]
  },
  {
   "cell_type": "code",
   "execution_count": 8,
   "id": "bd5163e4",
   "metadata": {},
   "outputs": [],
   "source": [
    "def find_initial_code_to_nums(codes, found_codes_to_nums):\n",
    "     for code in codes:    \n",
    "        length = len(code)\n",
    "        if length in len_to_num and length != 8:\n",
    "            num = len_to_num[length]\n",
    "            found_codes_to_nums[code] = num "
   ]
  },
  {
   "cell_type": "code",
   "execution_count": 9,
   "id": "7dc1ae04",
   "metadata": {},
   "outputs": [],
   "source": [
    "def run_given_mappings(found_codes_to_nums, segments_to_wires):\n",
    "    #print('\\nConsidering encoding:', code)\n",
    "    \n",
    "    for code in found_codes_to_nums:\n",
    "        num = found_codes_to_nums[code]\n",
    "        actual_code = nums_to_codes[num] # cf\n",
    "        #print('Found:', code, 'is:', num, ', Actual code:', actual_code)\n",
    "\n",
    "        # Add if it can reduce an existing list of candidate\n",
    "        for segment in actual_code:\n",
    "            segments_to_wires[segment] = segments_to_wires[segment].intersection(set(code))\n",
    "            #print('Segment', segment, 'Val', segments_to_wires[segment])\n",
    "\n",
    "        # Remove elsewhere\n",
    "        #print('\\nRemoving')\n",
    "        for key in segments_to_wires:\n",
    "            if not key in actual_code:\n",
    "                for wire in code:\n",
    "                    if wire in segments_to_wires[key]:\n",
    "                        segments_to_wires[key].remove(wire)\n",
    "\n",
    "                #print('Segment', key, segments_to_wires[key])"
   ]
  },
  {
   "cell_type": "markdown",
   "id": "c3e0f085",
   "metadata": {},
   "source": [
    "Some very ugly/bad things are done here haha, but I will clean it up when I get a chance."
   ]
  },
  {
   "cell_type": "code",
   "execution_count": 10,
   "id": "814ae864",
   "metadata": {},
   "outputs": [
    {
     "data": {
      "text/plain": [
       "1068933"
      ]
     },
     "execution_count": 10,
     "metadata": {},
     "output_type": "execute_result"
    }
   ],
   "source": [
    "total = 0\n",
    "for i in range(len(before)):\n",
    "    segment = {'a', 'b', 'c', 'd', 'e', 'f', 'g'}\n",
    "    segments_to_wires = {x : segment for x in segment} # Assume a wire could be connected to any segment\n",
    "    found_codes_to_nums = {}\n",
    "\n",
    "    codes = before[i]\n",
    "    find_initial_code_to_nums(codes, found_codes_to_nums)  \n",
    "    found_codes_to_nums\n",
    "\n",
    "    run_given_mappings(found_codes_to_nums, segments_to_wires)\n",
    "\n",
    "    nums = [0, 2, 3, 5, 6, 9]\n",
    "    candidates = [x for x in codes if x not in found_codes_to_nums]\n",
    "    candidates\n",
    "\n",
    "    for num in nums:\n",
    "        code = nums_to_codes[num]\n",
    "\n",
    "        buckets = [segments_to_wires[x] for x in code]\n",
    "        permutations = [''.join(sorted(x)) for x in of_bucket(buckets)]\n",
    "\n",
    "        for candidate in candidates:\n",
    "            if candidate in permutations:\n",
    "                #print('found', candidate, code, num)\n",
    "                found_codes_to_nums[candidate] = num\n",
    "                found_codes_to_nums[candidate] = num\n",
    "                run_given_mappings(found_codes_to_nums, segments_to_wires)\n",
    "\n",
    "    res = [found_codes_to_nums[x] for x in after[i]]\n",
    "    res\n",
    "    str_res = ''.join([str(x) for x in res])\n",
    "    str_res\n",
    "    int_res = int(str_res)\n",
    "    #print(int_res)\n",
    "    total += int_res\n",
    "\n",
    "total"
   ]
  },
  {
   "cell_type": "code",
   "execution_count": null,
   "id": "632006de",
   "metadata": {},
   "outputs": [],
   "source": []
  }
 ],
 "metadata": {
  "kernelspec": {
   "display_name": "Python 3 (ipykernel)",
   "language": "python",
   "name": "python3"
  },
  "language_info": {
   "codemirror_mode": {
    "name": "ipython",
    "version": 3
   },
   "file_extension": ".py",
   "mimetype": "text/x-python",
   "name": "python",
   "nbconvert_exporter": "python",
   "pygments_lexer": "ipython3",
   "version": "3.9.6"
  }
 },
 "nbformat": 4,
 "nbformat_minor": 5
}
