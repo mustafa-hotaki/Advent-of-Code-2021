{
 "cells": [
  {
   "cell_type": "markdown",
   "id": "f8ec8752",
   "metadata": {},
   "source": [
    "# Advent of Code 2021 - Day 8"
   ]
  },
  {
   "cell_type": "code",
   "execution_count": 1,
   "id": "a36576a2",
   "metadata": {},
   "outputs": [
    {
     "data": {
      "text/plain": [
       "['aedcg db ecbdgf badfegc abfcde edb cbgfe bfdg bdgec agfbce | ecagd gcbde dbcefa bgfd',\n",
       " 'bgeadf egcbda cfebg ac caefbdg bacd ecfgad cabeg gca abgde | gcbef befcg ac ac',\n",
       " 'cbfge ed aegbcd gfdba aedf facbdge fdegba bfgcda befdg dge | adbgef dfgbe dbgfe agdfb',\n",
       " 'efdga dgebfc cefa edgfc decbagf cdagfe ade bgafd ae cadbge | adfcegb dgcfabe ea cbfdge',\n",
       " 'fe bdcge ecfbdg ecf bdfe gdacbe gdefcab gfcad cdgef ceagbf | ef bdceg begdafc efgdc',\n",
       " 'gfacedb bfgadc fbdgec eagcb cdfe cd gcd afedbg bdceg gfdeb | dcg gecdb adebfg cdbeg',\n",
       " 'bfecadg fdbage bdgfca cfba fdceg acdgeb dfa af acgbd gadcf | fad bacf adbgce gbdafc',\n",
       " 'fbaeg dbcegf acgfbd gadbecf bfagce ge bedfa bfagc cage efg | adbef gfcdeb bdgcaf dbegfc',\n",
       " 'bcad gcefbad afbdg cgfea gfedba dcbegf dagbfc gfcab cb gcb | bc cbfadeg ecfdgb gbc',\n",
       " 'eabgcd eagfbd fdgb gbdea dbaecgf fbe bf fdcbea gfeba faegc | egafc fbdg dabgefc agdeb']"
      ]
     },
     "execution_count": 1,
     "metadata": {},
     "output_type": "execute_result"
    }
   ],
   "source": [
    "data = []\n",
    "with open(\"inputs_day_8.txt\", \"r\") as f:\n",
    "    for line in f:\n",
    "        data.append(line.strip())\n",
    "data[:10]"
   ]
  },
  {
   "cell_type": "code",
   "execution_count": 2,
   "id": "0e0ecd92",
   "metadata": {},
   "outputs": [
    {
     "data": {
      "text/plain": [
       "'ab'"
      ]
     },
     "execution_count": 2,
     "metadata": {},
     "output_type": "execute_result"
    }
   ],
   "source": [
    "''.join(['a', 'b'])"
   ]
  },
  {
   "cell_type": "code",
   "execution_count": 3,
   "id": "90d0918e",
   "metadata": {},
   "outputs": [
    {
     "data": {
      "text/plain": [
       "[['acdeg', 'bcdeg', 'abcdef', 'bdfg'],\n",
       " ['bcefg', 'bcefg', 'ac', 'ac'],\n",
       " ['abdefg', 'bdefg', 'bdefg', 'abdfg'],\n",
       " ['abcdefg', 'abcdefg', 'ae', 'bcdefg'],\n",
       " ['ef', 'bcdeg', 'abcdefg', 'cdefg'],\n",
       " ['cdg', 'bcdeg', 'abdefg', 'bcdeg'],\n",
       " ['adf', 'abcf', 'abcdeg', 'abcdfg'],\n",
       " ['abdef', 'bcdefg', 'abcdfg', 'bcdefg'],\n",
       " ['bc', 'abcdefg', 'bcdefg', 'bcg'],\n",
       " ['acefg', 'bdfg', 'abcdefg', 'abdeg'],\n",
       " ['abcdef', 'abcdefg', 'abceg', 'cefg'],\n",
       " ['abcdg', 'bcdfg', 'bcdefg', 'abcefg'],\n",
       " ['abdefg', 'bcdefg', 'bcf', 'abdefg'],\n",
       " ['abcdf', 'bdfg', 'abcdfg', 'fg'],\n",
       " ['ef', 'abcdef', 'abcdef', 'abcfg'],\n",
       " ['abcefg', 'cf', 'abcdfg', 'abcdfg'],\n",
       " ['bcdef', 'abe', 'abcf', 'bcdefg'],\n",
       " ['abdef', 'abdef', 'abcdfg', 'cdef'],\n",
       " ['acdefg', 'acdefg', 'bf', 'abcdg'],\n",
       " ['bcfg', 'abcdef', 'fg', 'abdefg'],\n",
       " ['abdefg', 'abdeg', 'abdefg', 'abdeg'],\n",
       " ['befg', 'bf', 'abcde', 'bf'],\n",
       " ['abcdefg', 'bcd', 'acde', 'abcdefg'],\n",
       " ['abcdefg', 'abcefg', 'abdfg', 'acefg'],\n",
       " ['abcdeg', 'abcdeg', 'abcdefg', 'abcefg'],\n",
       " ['cdf', 'abcdefg', 'abcde', 'abcdfg'],\n",
       " ['abcde', 'abcde', 'abdeg', 'abcdefg'],\n",
       " ['acde', 'acde', 'acde', 'abcfg'],\n",
       " ['acdefg', 'afg', 'fg', 'abcdefg'],\n",
       " ['bcdef', 'abcdef', 'bdfg', 'cdefg'],\n",
       " ['abcdeg', 'abcdeg', 'adeg', 'abcdefg'],\n",
       " ['ab', 'abdg', 'abc', 'ab'],\n",
       " ['abcdefg', 'abcf', 'bcdefg', 'abcdeg'],\n",
       " ['abcdefg', 'ad', 'abdefg', 'abcdeg'],\n",
       " ['abcefg', 'bcef', 'bcef', 'abc'],\n",
       " ['acdefg', 'bdg', 'acdefg', 'abdefg'],\n",
       " ['abcdefg', 'abdefg', 'abdef', 'abg'],\n",
       " ['acdefg', 'abceg', 'acdefg', 'bdef'],\n",
       " ['cef', 'abcde', 'cf', 'abcdefg'],\n",
       " ['bdefg', 'bdefg', 'abcdeg', 'bdg'],\n",
       " ['adf', 'adf', 'bcdef', 'abcdfg'],\n",
       " ['abcdefg', 'abcdeg', 'abcdefg', 'acefg'],\n",
       " ['abcdfg', 'def', 'bcdefg', 'def'],\n",
       " ['abcdefg', 'abcdefg', 'bce', 'abcdeg'],\n",
       " ['aeg', 'abcdefg', 'abdfg', 'abcefg'],\n",
       " ['abcdefg', 'deg', 'abceg', 'abcdeg'],\n",
       " ['bcdefg', 'bcdefg', 'bcdfg', 'bcdfg'],\n",
       " ['abcdefg', 'abg', 'acdefg', 'abdefg'],\n",
       " ['acefg', 'acdefg', 'abdfg', 'abcefg'],\n",
       " ['abdefg', 'abcde', 'acdf', 'bcdefg'],\n",
       " ['bcef', 'abcdeg', 'cfg', 'bcdfg'],\n",
       " ['acdeg', 'abcdeg', 'af', 'abcdefg'],\n",
       " ['abcdefg', 'acef', 'cfg', 'abcefg'],\n",
       " ['bcf', 'abcdfg', 'abcdfg', 'cf'],\n",
       " ['abcdefg', 'abdeg', 'abf', 'abcdeg'],\n",
       " ['abdefg', 'bcdfg', 'bcdefg', 'bcdefg'],\n",
       " ['abcdeg', 'abcdefg', 'abcdefg', 'abcdefg'],\n",
       " ['aeg', 'abfg', 'abfg', 'bcdeg'],\n",
       " ['cdf', 'abcefg', 'abcfg', 'abcefg'],\n",
       " ['ace', 'ac', 'abceg', 'abcdef'],\n",
       " ['abdef', 'abdefg', 'bcdef', 'abefg'],\n",
       " ['abefg', 'abcdef', 'acefg', 'abefg'],\n",
       " ['abdfg', 'acg', 'abdfg', 'abcdeg'],\n",
       " ['be', 'bce', 'abcdf', 'abcdfg'],\n",
       " ['abdefg', 'abcdefg', 'bcdefg', 'abcdefg'],\n",
       " ['abcdf', 'abcefg', 'abcdefg', 'ae'],\n",
       " ['adefg', 'abcdefg', 'abdefg', 'abeg'],\n",
       " ['deg', 'bcdefg', 'abcdef', 'abcdg'],\n",
       " ['bcde', 'bcde', 'abcdefg', 'abcdefg'],\n",
       " ['acf', 'adfg', 'abcdeg', 'acf'],\n",
       " ['abcdefg', 'abcdefg', 'cdeg', 'abdefg'],\n",
       " ['abcdef', 'acdef', 'acdef', 'ab'],\n",
       " ['acdefg', 'ac', 'acdefg', 'bcdfg'],\n",
       " ['abcdefg', 'ab', 'bcefg', 'ab'],\n",
       " ['abcdefg', 'abcefg', 'bcdefg', 'bcefg'],\n",
       " ['acdef', 'acdef', 'adfg', 'adfg'],\n",
       " ['ae', 'cdefg', 'acdeg', 'abcdef'],\n",
       " ['abcefg', 'abcdef', 'bcdeg', 'abceg'],\n",
       " ['abcdeg', 'abcdefg', 'adef', 'abdfg'],\n",
       " ['abdefg', 'be', 'be', 'acdeg'],\n",
       " ['abdf', 'abcdeg', 'abdefg', 'adg'],\n",
       " ['aceg', 'adefg', 'ce', 'aceg'],\n",
       " ['cde', 'cde', 'cde', 'abcde'],\n",
       " ['cdef', 'abcefg', 'abcdef', 'abcdeg'],\n",
       " ['bcdefg', 'abcdefg', 'cd', 'bcdefg'],\n",
       " ['cdeg', 'adg', 'abcdfg', 'abceg'],\n",
       " ['acdfg', 'abdf', 'bd', 'acdefg'],\n",
       " ['acfg', 'abceg', 'abcdeg', 'abcdefg'],\n",
       " ['abcdg', 'abdefg', 'acdefg', 'abcdg'],\n",
       " ['abcefg', 'cefg', 'abceg', 'beg'],\n",
       " ['abcdef', 'bg', 'acefg', 'bg'],\n",
       " ['abcdef', 'bcg', 'bcg', 'bg'],\n",
       " ['bcdg', 'abcdef', 'bcdefg', 'abcdef'],\n",
       " ['abcfg', 'acdef', 'befg', 'abcefg'],\n",
       " ['ac', 'abefg', 'abcdfg', 'ac'],\n",
       " ['bef', 'abdefg', 'bcdefg', 'abde'],\n",
       " ['bcd', 'acdeg', 'abdg', 'abcdeg'],\n",
       " ['abcdefg', 'abdf', 'bcdef', 'abcef'],\n",
       " ['abcdg', 'bcdefg', 'abcdg', 'abcdefg'],\n",
       " ['aef', 'acefg', 'abeg', 'abcdef'],\n",
       " ['acdefg', 'abcdf', 'ab', 'abcdefg'],\n",
       " ['abcdefg', 'acdef', 'abcef', 'abefg'],\n",
       " ['abcef', 'abcdfg', 'abe', 'abcdef'],\n",
       " ['abefg', 'bcefg', 'abcdefg', 'abcf'],\n",
       " ['acdefg', 'cfg', 'abcdfg', 'acef'],\n",
       " ['abdefg', 'acdefg', 'abdefg', 'acdefg'],\n",
       " ['abc', 'acdefg', 'abcdf', 'abc'],\n",
       " ['ce', 'adefg', 'abcdfg', 'bcde'],\n",
       " ['abcdf', 'acdefg', 'abdef', 'abdef'],\n",
       " ['abcdfg', 'bdg', 'abcd', 'bdg'],\n",
       " ['abceg', 'cdg', 'abcefg', 'abceg'],\n",
       " ['eg', 'abdefg', 'abcdef', 'eg'],\n",
       " ['cfg', 'bcdf', 'bcdf', 'abcdfg'],\n",
       " ['ae', 'abcefg', 'abcdfg', 'ae'],\n",
       " ['ef', 'abdefg', 'abcdefg', 'acdfg'],\n",
       " ['ace', 'acdfg', 'bcdefg', 'ae'],\n",
       " ['aefg', 'abcdeg', 'acdefg', 'abcdeg'],\n",
       " ['cf', 'abdefg', 'abdefg', 'cdef'],\n",
       " ['bcdef', 'bdefg', 'bcdefg', 'bdefg'],\n",
       " ['ac', 'abdeg', 'abceg', 'acef'],\n",
       " ['abcdefg', 'abcdeg', 'abcdeg', 'abcefg'],\n",
       " ['abcdefg', 'abcdfg', 'abdef', 'abcdfg'],\n",
       " ['abcdfg', 'bc', 'abcdef', 'bc'],\n",
       " ['fg', 'fg', 'abcdfg', 'abcdefg'],\n",
       " ['abg', 'abcdefg', 'abcf', 'acdefg'],\n",
       " ['acdeg', 'abcdef', 'bdef', 'cdf'],\n",
       " ['bcdfg', 'acdfg', 'adefg', 'abcdefg'],\n",
       " ['acef', 'abdefg', 'cde', 'abdefg'],\n",
       " ['abdef', 'abcdefg', 'abdef', 'abeg'],\n",
       " ['bde', 'abcdeg', 'abdefg', 'abdefg'],\n",
       " ['abcdefg', 'bcdg', 'bd', 'abcdef'],\n",
       " ['acdefg', 'abdf', 'bcdfg', 'abcdfg'],\n",
       " ['abefg', 'abefg', 'df', 'defg'],\n",
       " ['acdefg', 'ab', 'acdeg', 'abcdefg'],\n",
       " ['abcdefg', 'beg', 'abcdef', 'abcdef'],\n",
       " ['abdefg', 'abcdf', 'abcdfg', 'abc'],\n",
       " ['abcdefg', 'bcf', 'abdfg', 'abcd'],\n",
       " ['abdeg', 'ab', 'abcg', 'abcdef'],\n",
       " ['abcdg', 'abcdfg', 'bdf', 'abdefg'],\n",
       " ['abdeg', 'abcdfg', 'ade', 'acdefg'],\n",
       " ['bcdfg', 'cdg', 'acdefg', 'bcdefg'],\n",
       " ['acdfg', 'abcdfg', 'acdefg', 'adef'],\n",
       " ['abcdefg', 'abcdeg', 'abdefg', 'abcdefg'],\n",
       " ['acde', 'ce', 'ce', 'bcdefg'],\n",
       " ['abdefg', 'cdef', 'abceg', 'abceg'],\n",
       " ['abce', 'abcdeg', 'abdfg', 'abcdefg'],\n",
       " ['ad', 'abcefg', 'abceg', 'abceg'],\n",
       " ['abcdf', 'abcdef', 'acf', 'abcde'],\n",
       " ['abcdefg', 'bf', 'abcde', 'abcde'],\n",
       " ['abcdfg', 'abcdfg', 'bd', 'bdef'],\n",
       " ['ac', 'abcdeg', 'abcefg', 'abdefg'],\n",
       " ['ade', 'abcdeg', 'acdeg', 'abcdefg'],\n",
       " ['bcdefg', 'abcefg', 'abcefg', 'bcdefg'],\n",
       " ['beg', 'abcdefg', 'eg', 'abefg'],\n",
       " ['cefg', 'cefg', 'abcefg', 'abcdeg'],\n",
       " ['acefg', 'abcdef', 'abdefg', 'abdg'],\n",
       " ['abce', 'abcdefg', 'abcdefg', 'abefg'],\n",
       " ['abcefg', 'cdefg', 'abcdeg', 'abceg'],\n",
       " ['abcdef', 'adef', 'abcdfg', 'abceg'],\n",
       " ['af', 'acf', 'abcdefg', 'bcdefg'],\n",
       " ['abcdefg', 'bdefg', 'cg', 'abcdefg'],\n",
       " ['bdefg', 'bcdef', 'abcefg', 'bc'],\n",
       " ['abd', 'abd', 'adef', 'bcdef'],\n",
       " ['abdeg', 'abcefg', 'acdefg', 'abdeg'],\n",
       " ['bcdefg', 'bcdefg', 'bcefg', 'abcde'],\n",
       " ['abceg', 'abcdefg', 'bcdefg', 'bcdefg'],\n",
       " ['abcdfg', 'abdeg', 'acdefg', 'acdefg'],\n",
       " ['abcdf', 'bdefg', 'abe', 'abcdef'],\n",
       " ['acd', 'abceg', 'acd', 'cdefg'],\n",
       " ['cde', 'acdfg', 'abdefg', 'abdef'],\n",
       " ['abcg', 'abdfg', 'abcdefg', 'bc'],\n",
       " ['abeg', 'abeg', 'abeg', 'eg'],\n",
       " ['abe', 'abe', 'abcdefg', 'abcfg'],\n",
       " ['abcdefg', 'acdfg', 'acdfg', 'abcdefg'],\n",
       " ['abcdeg', 'bcdefg', 'acfg', 'acdef'],\n",
       " ['abdeg', 'abcdeg', 'acdeg', 'acd'],\n",
       " ['abdefg', 'abcef', 'abcefg', 'bceg'],\n",
       " ['abcefg', 'bcdefg', 'abcefg', 'cdef'],\n",
       " ['abcdfg', 'abcdef', 'bg', 'abcdefg'],\n",
       " ['abcdefg', 'cdefg', 'acdefg', 'bg'],\n",
       " ['abdeg', 'af', 'aef', 'af'],\n",
       " ['bcdefg', 'bdg', 'abcefg', 'abdefg'],\n",
       " ['acdef', 'abdefg', 'abcde', 'abdefg'],\n",
       " ['abdeg', 'df', 'abcdeg', 'def'],\n",
       " ['bcefg', 'abe', 'abe', 'abcdef'],\n",
       " ['ae', 'ae', 'abcdefg', 'acdefg'],\n",
       " ['ab', 'abe', 'abcf', 'abcdefg'],\n",
       " ['bcdfg', 'bdefg', 'cg', 'abcdefg'],\n",
       " ['abcdefg', 'bcdef', 'abcdfg', 'bcdef'],\n",
       " ['abcdefg', 'abdefg', 'ab', 'abcdfg'],\n",
       " ['abdfg', 'bcef', 'bcdeg', 'efg'],\n",
       " ['ac', 'bcdef', 'bcdef', 'abcdef'],\n",
       " ['abdef', 'abcd', 'abcefg', 'abcefg'],\n",
       " ['abcdeg', 'abcde', 'abdf', 'abcdef'],\n",
       " ['cdf', 'abcdef', 'abdef', 'acef'],\n",
       " ['abcfg', 'abdefg', 'ad', 'abcdg'],\n",
       " ['abcdf', 'abcdefg', 'acdefg', 'cdf'],\n",
       " ['cdefg', 'efg', 'bcdef', 'acdefg'],\n",
       " ['bcefg', 'ae', 'ae', 'abe'],\n",
       " ['fg', 'bcdfg', 'acdefg', 'abcdfg']]"
      ]
     },
     "execution_count": 3,
     "metadata": {},
     "output_type": "execute_result"
    }
   ],
   "source": [
    "before = []\n",
    "after = []\n",
    "for x in data:\n",
    "    pieces = x.split(' | ')\n",
    "    b = pieces[0].split(' ')\n",
    "    before.append([''.join(sorted(x)) for x in b])\n",
    "    a = pieces[1].split(' ')\n",
    "    after.append([''.join(sorted(x)) for x in a])\n",
    "    \n",
    "after"
   ]
  },
  {
   "cell_type": "code",
   "execution_count": 4,
   "id": "30a6385a",
   "metadata": {},
   "outputs": [
    {
     "data": {
      "text/plain": [
       "{'abcefg': 0,\n",
       " 'cf': 1,\n",
       " 'acdeg': 2,\n",
       " 'acdfg': 3,\n",
       " 'bcdf': 4,\n",
       " 'abdfg': 5,\n",
       " 'abdefg': 6,\n",
       " 'acf': 7,\n",
       " 'abcdefg': 8,\n",
       " 'abcdfg': 9}"
      ]
     },
     "execution_count": 4,
     "metadata": {},
     "output_type": "execute_result"
    }
   ],
   "source": [
    "nums_to_codes = {\n",
    "    0 : 'abcefg', #6\n",
    "    1 : 'cf', # 2\n",
    "    2 : 'acdeg', #5\n",
    "    3 : 'acdfg', #5\n",
    "    4 : 'bcdf', #4\n",
    "    5 : 'abdfg', #5\n",
    "    6 : 'abdefg', #6\n",
    "    7 : 'acf', # 3\n",
    "    8 : 'abcdefg', # 7\n",
    "    9 : 'abcdfg' #6\n",
    "}\n",
    "\n",
    "codes_to_nums = {nums_to_codes[key] : key for key in nums_to_codes}\n",
    "codes_to_nums"
   ]
  },
  {
   "cell_type": "code",
   "execution_count": 5,
   "id": "c512f814",
   "metadata": {},
   "outputs": [],
   "source": [
    "len_to_num = {\n",
    "    2: 1,\n",
    "    3: 7,\n",
    "    4: 4,\n",
    "    7: 8\n",
    "}"
   ]
  },
  {
   "cell_type": "markdown",
   "id": "4cc18881",
   "metadata": {},
   "source": [
    "## Part 1"
   ]
  },
  {
   "cell_type": "code",
   "execution_count": 6,
   "id": "e5f99336",
   "metadata": {},
   "outputs": [
    {
     "data": {
      "text/plain": [
       "342"
      ]
     },
     "execution_count": 6,
     "metadata": {},
     "output_type": "execute_result"
    }
   ],
   "source": [
    "total = 0\n",
    "\n",
    "for x in after:\n",
    "    #print('x', x)\n",
    "    for e in x:\n",
    "        if len(e) in len_to_num:\n",
    "            total += 1\n",
    "        \n",
    "total"
   ]
  },
  {
   "cell_type": "markdown",
   "id": "e02e811f",
   "metadata": {},
   "source": [
    "## Part 2"
   ]
  },
  {
   "cell_type": "code",
   "execution_count": 7,
   "id": "bcba6846",
   "metadata": {},
   "outputs": [],
   "source": [
    "def of_bucket(buckets):\n",
    "    for bucket_item in buckets[0]:\n",
    "        if len(buckets) > 1 :\n",
    "            for result in of_bucket(buckets[1:]):\n",
    "                yield [bucket_item] + result\n",
    "        else:\n",
    "            yield [bucket_item]\n",
    "            "
   ]
  },
  {
   "cell_type": "code",
   "execution_count": 8,
   "id": "30ceee26",
   "metadata": {},
   "outputs": [],
   "source": [
    "def find_initial_code_to_nums(codes, found_codes_to_nums):\n",
    "     for code in codes:    \n",
    "        length = len(code)\n",
    "        if length in len_to_num and length != 8:\n",
    "            num = len_to_num[length]\n",
    "            found_codes_to_nums[code] = num "
   ]
  },
  {
   "cell_type": "code",
   "execution_count": 9,
   "id": "865ff73c",
   "metadata": {},
   "outputs": [],
   "source": [
    "def run_given_mappings(found_codes_to_nums, segments_to_wires):\n",
    "    #print('\\nConsidering encoding:', code)\n",
    "    \n",
    "    for code in found_codes_to_nums:\n",
    "        num = found_codes_to_nums[code]\n",
    "        actual_code = nums_to_codes[num] # cf\n",
    "        #print('Found:', code, 'is:', num, ', Actual code:', actual_code)\n",
    "\n",
    "        # Add if it can reduce an existing list of candidate\n",
    "        for segment in actual_code:\n",
    "            segments_to_wires[segment] = segments_to_wires[segment].intersection(set(code))\n",
    "            #print('Segment', segment, 'Val', segments_to_wires[segment])\n",
    "\n",
    "        # Remove elsewhere\n",
    "        #print('\\nRemoving')\n",
    "        for key in segments_to_wires:\n",
    "            if not key in actual_code:\n",
    "                for wire in code:\n",
    "                    if wire in segments_to_wires[key]:\n",
    "                        segments_to_wires[key].remove(wire)\n",
    "\n",
    "                #print('Segment', key, segments_to_wires[key])"
   ]
  },
  {
   "cell_type": "code",
   "execution_count": 10,
   "id": "f23ea4c5",
   "metadata": {},
   "outputs": [
    {
     "data": {
      "text/plain": [
       "1068933"
      ]
     },
     "execution_count": 10,
     "metadata": {},
     "output_type": "execute_result"
    }
   ],
   "source": [
    "total = 0\n",
    "for i in range(len(before)):\n",
    "    segment = {'a', 'b', 'c', 'd', 'e', 'f', 'g'}\n",
    "    segments_to_wires = {x : segment for x in segment} # Assume a wire could be connected to any segment\n",
    "    found_codes_to_nums = {}\n",
    "\n",
    "    codes = before[i]\n",
    "    find_initial_code_to_nums(codes, found_codes_to_nums)  \n",
    "    found_codes_to_nums\n",
    "\n",
    "    run_given_mappings(found_codes_to_nums, segments_to_wires)\n",
    "\n",
    "    nums = [0, 2, 3, 5, 6, 9]\n",
    "    candidates = [x for x in codes if x not in found_codes_to_nums]\n",
    "    candidates\n",
    "\n",
    "    for num in nums:\n",
    "        code = nums_to_codes[num]\n",
    "\n",
    "        buckets = [segments_to_wires[x] for x in code]\n",
    "        permutations = [''.join(sorted(x)) for x in of_bucket(buckets)]\n",
    "\n",
    "        for candidate in candidates:\n",
    "            if candidate in permutations:\n",
    "                #print('found', candidate, code, num)\n",
    "                found_codes_to_nums[candidate] = num\n",
    "                found_codes_to_nums[candidate] = num\n",
    "                run_given_mappings(found_codes_to_nums, segments_to_wires)\n",
    "\n",
    "    res = [found_codes_to_nums[x] for x in after[i]]\n",
    "    res\n",
    "    str_res = ''.join([str(x) for x in res])\n",
    "    str_res\n",
    "    int_res = int(str_res)\n",
    "    #print(int_res)\n",
    "    total += int_res\n",
    "\n",
    "total"
   ]
  },
  {
   "cell_type": "code",
   "execution_count": null,
   "id": "7c817f34",
   "metadata": {},
   "outputs": [],
   "source": []
  }
 ],
 "metadata": {
  "kernelspec": {
   "display_name": "Python 3 (ipykernel)",
   "language": "python",
   "name": "python3"
  },
  "language_info": {
   "codemirror_mode": {
    "name": "ipython",
    "version": 3
   },
   "file_extension": ".py",
   "mimetype": "text/x-python",
   "name": "python",
   "nbconvert_exporter": "python",
   "pygments_lexer": "ipython3",
   "version": "3.9.6"
  }
 },
 "nbformat": 4,
 "nbformat_minor": 5
}
