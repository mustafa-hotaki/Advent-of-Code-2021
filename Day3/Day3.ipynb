{
 "cells": [
  {
   "cell_type": "markdown",
   "id": "f8ec8752",
   "metadata": {},
   "source": [
    "# Advent of Code 2021 - Day 3"
   ]
  },
  {
   "cell_type": "code",
   "execution_count": 1,
   "id": "a36576a2",
   "metadata": {},
   "outputs": [
    {
     "name": "stdout",
     "output_type": "stream",
     "text": [
      "First 2 data points: [['0', '0', '1', '0', '0', '1', '1', '0', '0', '1', '0', '1'], ['0', '1', '0', '1', '0', '0', '0', '1', '1', '1', '0', '0']]\n",
      "Number of data points: 1000\n"
     ]
    }
   ],
   "source": [
    "data = []\n",
    "with open(\"inputs_day_3.txt\", \"r\") as f:\n",
    "    for line in f:\n",
    "        x = line.strip()\n",
    "        data.append([b for b in x])\n",
    "\n",
    "print('First 2 data points:', data[ : 2])\n",
    "print('Number of data points:', len(data))"
   ]
  },
  {
   "cell_type": "code",
   "execution_count": 2,
   "id": "777ef298",
   "metadata": {},
   "outputs": [
    {
     "data": {
      "text/plain": [
       "([('0', 528),\n",
       "  ('1', 521),\n",
       "  ('0', 515),\n",
       "  ('1', 501),\n",
       "  ('1', 505),\n",
       "  ('1', 515),\n",
       "  ('1', 512),\n",
       "  ('0', 502),\n",
       "  ('0', 507),\n",
       "  ('1', 507),\n",
       "  ('0', 504),\n",
       "  ('0', 519)],\n",
       " [('1', 472),\n",
       "  ('0', 479),\n",
       "  ('1', 485),\n",
       "  ('0', 499),\n",
       "  ('0', 495),\n",
       "  ('0', 485),\n",
       "  ('0', 488),\n",
       "  ('1', 498),\n",
       "  ('1', 493),\n",
       "  ('0', 493),\n",
       "  ('1', 496),\n",
       "  ('1', 481)])"
      ]
     },
     "execution_count": 2,
     "metadata": {},
     "output_type": "execute_result"
    }
   ],
   "source": [
    "from collections import Counter\n",
    "\n",
    "def Compute_Most_Least_Frequents_for_List_of_Binary_Data(data):\n",
    "    \n",
    "    mfs = []\n",
    "    lfs = []\n",
    "    for i in range(len(data[0])):\n",
    "        ith_column = [x[i] for x in data]\n",
    "        mf = Counter(ith_column).most_common()[0]\n",
    "        lf = Counter(ith_column).most_common()[-1]\n",
    "        mfs.append(mf)\n",
    "        lfs.append(lf)\n",
    "        \n",
    "    return mfs, lfs\n",
    "\n",
    "Compute_Most_Least_Frequents_for_List_of_Binary_Data(data)"
   ]
  },
  {
   "cell_type": "markdown",
   "id": "4cc18881",
   "metadata": {},
   "source": [
    "## Part 1"
   ]
  },
  {
   "cell_type": "code",
   "execution_count": 3,
   "id": "6c3c7d4a",
   "metadata": {},
   "outputs": [
    {
     "data": {
      "text/plain": [
       "3901196"
      ]
     },
     "execution_count": 3,
     "metadata": {},
     "output_type": "execute_result"
    }
   ],
   "source": [
    "mfs, lfs = Compute_Most_Least_Frequents_for_List_of_Binary_Data(data)\n",
    "gamma_rate = int(''.join([x[0] for x in mfs]), 2)\n",
    "epsilon_rate = int(''.join([x[0] for x in lfs]), 2)\n",
    "\n",
    "power_consumption = gamma_rate * epsilon_rate\n",
    "power_consumption"
   ]
  },
  {
   "cell_type": "markdown",
   "id": "e02e811f",
   "metadata": {},
   "source": [
    "## Part 2"
   ]
  },
  {
   "cell_type": "code",
   "execution_count": 4,
   "id": "3d61cf9a",
   "metadata": {},
   "outputs": [],
   "source": [
    "NUM_BITS = len(data[0])"
   ]
  },
  {
   "cell_type": "code",
   "execution_count": 5,
   "id": "71a6dde0",
   "metadata": {},
   "outputs": [
    {
     "data": {
      "text/plain": [
       "1639"
      ]
     },
     "execution_count": 5,
     "metadata": {},
     "output_type": "execute_result"
    }
   ],
   "source": [
    "new = [x for x in data]\n",
    "\n",
    "for i in range(NUM_BITS):\n",
    "    \n",
    "    if len(new) == 1:\n",
    "        break\n",
    "\n",
    "    mfs, lfs = Compute_Most_Least_Frequents_for_List_of_Binary_Data(new)\n",
    "    equally_common = mfs[i][1] == lfs[i][1]\n",
    "    \n",
    "    filtered = []\n",
    "    for x in new:\n",
    "        if equally_common:\n",
    "            if x[i] == '1':\n",
    "                filtered.append(x)\n",
    "        else:\n",
    "            if x[i] == mfs[i][0]:\n",
    "                filtered.append(x)\n",
    "\n",
    "    new = filtered\n",
    "\n",
    "oxygen_generator_rating = int(''.join(new[0]), 2) # Assume a single number is left at this point\n",
    "oxygen_generator_rating"
   ]
  },
  {
   "cell_type": "code",
   "execution_count": 6,
   "id": "e5444a2f",
   "metadata": {},
   "outputs": [
    {
     "data": {
      "text/plain": [
       "2692"
      ]
     },
     "execution_count": 6,
     "metadata": {},
     "output_type": "execute_result"
    }
   ],
   "source": [
    "new = [x for x in data]\n",
    "\n",
    "for i in range(NUM_BITS):\n",
    "    \n",
    "    if len(new) == 1:\n",
    "        break\n",
    "\n",
    "    mfs, lfs = Compute_Most_Least_Frequents_for_List_of_Binary_Data(new)\n",
    "    equally_common = mfs[i][1] == lfs[i][1]\n",
    "    \n",
    "    filtered = []\n",
    "    for x in new:\n",
    "        if equally_common:\n",
    "            if x[i] == '0':\n",
    "                filtered.append(x)\n",
    "        else:\n",
    "            if x[i] == lfs[i][0]:\n",
    "                filtered.append(x)\n",
    "\n",
    "    new = filtered\n",
    "\n",
    "CO2_scrubber_rating = int(''.join(new[0]), 2) # Assume a single number is left at this point\n",
    "CO2_scrubber_rating"
   ]
  },
  {
   "cell_type": "code",
   "execution_count": 7,
   "id": "6f30e728",
   "metadata": {},
   "outputs": [
    {
     "data": {
      "text/plain": [
       "4412188"
      ]
     },
     "execution_count": 7,
     "metadata": {},
     "output_type": "execute_result"
    }
   ],
   "source": [
    "life_support_rating = oxygen_generator_rating * CO2_scrubber_rating\n",
    "life_support_rating"
   ]
  }
 ],
 "metadata": {
  "kernelspec": {
   "display_name": "Python 3 (ipykernel)",
   "language": "python",
   "name": "python3"
  },
  "language_info": {
   "codemirror_mode": {
    "name": "ipython",
    "version": 3
   },
   "file_extension": ".py",
   "mimetype": "text/x-python",
   "name": "python",
   "nbconvert_exporter": "python",
   "pygments_lexer": "ipython3",
   "version": "3.9.6"
  }
 },
 "nbformat": 4,
 "nbformat_minor": 5
}
