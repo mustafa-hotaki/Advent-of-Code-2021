{
 "cells": [
  {
   "cell_type": "markdown",
   "id": "f8ec8752",
   "metadata": {},
   "source": [
    "# Advent of Code 2021 - Day 13"
   ]
  },
  {
   "cell_type": "code",
   "execution_count": 1,
   "id": "a36576a2",
   "metadata": {},
   "outputs": [
    {
     "data": {
      "text/plain": [
       "(802, 12)"
      ]
     },
     "execution_count": 1,
     "metadata": {},
     "output_type": "execute_result"
    }
   ],
   "source": [
    "EXAMPLE = 0\n",
    "filename = \"input.txt\"\n",
    "if EXAMPLE: filename = \"example.txt\"\n",
    "    \n",
    "data = ''\n",
    "with open(filename, \"r\") as f:\n",
    "    for line in f:\n",
    "        data += line\n",
    "        \n",
    "raw = data.split('\\n\\n')\n",
    "dots = set([tuple([int(i) for i in x.split(',')]) for x in raw[0].split('\\n')])\n",
    "folds = [(x.split(\"=\")[0][-1], int(x.split(\"=\")[1])) for x in raw[1].split('\\n')]\n",
    "\n",
    "len(dots), len(folds)"
   ]
  },
  {
   "cell_type": "code",
   "execution_count": 8,
   "id": "b1c5ba33",
   "metadata": {},
   "outputs": [],
   "source": [
    "def Print_Dots(dots):\n",
    "    \n",
    "    top_left = (min([p[0] for p in dots]), min([p[1] for p in dots]))\n",
    "    bottom_right = (max([p[0] for p in dots]), max([p[1] for p in dots]))\n",
    "\n",
    "    for j in range(top_left[1], bottom_right[1] + 1):\n",
    "        for i in range(top_left[0], bottom_right[0] + 1):\n",
    "\n",
    "            if (i, j) in dots:\n",
    "                print('#', end=\"\")\n",
    "            else:\n",
    "                print(' ', end=\"\")\n",
    "        print()"
   ]
  },
  {
   "cell_type": "markdown",
   "id": "4cc18881",
   "metadata": {},
   "source": [
    "## Part 1"
   ]
  },
  {
   "cell_type": "code",
   "execution_count": 3,
   "id": "04cda301",
   "metadata": {},
   "outputs": [
    {
     "name": "stdout",
     "output_type": "stream",
     "text": [
      "669\n"
     ]
    }
   ],
   "source": [
    "def Fold(dots, fold):\n",
    "    \n",
    "    axis = 0 if fold[0] == 'x' else 1\n",
    "    fold_line = fold[1]\n",
    "    points_to_fold = [p for p in dots if p[axis] > fold_line]\n",
    "\n",
    "    for point in points_to_fold:\n",
    "\n",
    "        folded = None\n",
    "        if axis == 0:\n",
    "            folded = (fold_line - (point[axis] - fold_line), point[1])\n",
    "        else:\n",
    "            folded = (point[0], fold_line - (point[axis] - fold_line))\n",
    "        \n",
    "        dots.remove(point)\n",
    "        dots.add(folded)\n",
    "\n",
    "Fold(dots, folds[0])\n",
    "print(len(dots))"
   ]
  },
  {
   "cell_type": "markdown",
   "id": "e02e811f",
   "metadata": {},
   "source": [
    "## Part 2"
   ]
  },
  {
   "cell_type": "code",
   "execution_count": 9,
   "id": "c5f503ed",
   "metadata": {},
   "outputs": [
    {
     "data": {
      "text/plain": [
       "90"
      ]
     },
     "execution_count": 9,
     "metadata": {},
     "output_type": "execute_result"
    }
   ],
   "source": [
    "for fold in folds:\n",
    "    Fold(dots, fold)\n",
    "\n",
    "len(dots)"
   ]
  },
  {
   "cell_type": "code",
   "execution_count": 10,
   "id": "64efce58",
   "metadata": {},
   "outputs": [
    {
     "name": "stdout",
     "output_type": "stream",
     "text": [
      "#  # #### #### ####  ##  #  #  ##    ##\n",
      "#  # #    #       # #  # #  # #  #    #\n",
      "#  # ###  ###    #  #    #  # #       #\n",
      "#  # #    #     #   #    #  # #       #\n",
      "#  # #    #    #    #  # #  # #  # #  #\n",
      " ##  #### #    ####  ##   ##   ##   ## \n"
     ]
    }
   ],
   "source": [
    "Print_Dots(dots)"
   ]
  },
  {
   "cell_type": "code",
   "execution_count": null,
   "id": "e9b3dfe7",
   "metadata": {},
   "outputs": [],
   "source": []
  }
 ],
 "metadata": {
  "kernelspec": {
   "display_name": "Python 3 (ipykernel)",
   "language": "python",
   "name": "python3"
  },
  "language_info": {
   "codemirror_mode": {
    "name": "ipython",
    "version": 3
   },
   "file_extension": ".py",
   "mimetype": "text/x-python",
   "name": "python",
   "nbconvert_exporter": "python",
   "pygments_lexer": "ipython3",
   "version": "3.9.6"
  }
 },
 "nbformat": 4,
 "nbformat_minor": 5
}
