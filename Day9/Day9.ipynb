{
 "cells": [
  {
   "cell_type": "markdown",
   "id": "f8ec8752",
   "metadata": {},
   "source": [
    "# Advent of Code 2021 - Day 9"
   ]
  },
  {
   "cell_type": "code",
   "execution_count": 1,
   "id": "a36576a2",
   "metadata": {},
   "outputs": [
    {
     "data": {
      "text/plain": [
       "['8654434789432446987654321056789235678953245798764212456789656568977654232457898754567898765431335999',\n",
       " '8743125678931234599987643238993123567894345989542101234678943459865432101345789643479999878540129877',\n",
       " '9651056799320125678998764369895644678965956976543233458799202568986574519499996532445989998761298956',\n",
       " '6543234789632347899219865456789795789879899898754755567893212456998986798987897621234678979872987645',\n",
       " '7887645696543456799423989978998989893989767789865676679995343689879497986596789432349899865989876434',\n",
       " '8998967789999577897999799999457678902497645699876799798789459798767329876455678943456798764699987569',\n",
       " '9999878899878988956986678953234567893989534578997998987689567976543213984323589894967899643209898978',\n",
       " '0987999999767899549875439870146789999875323466899886596578979987954201987312398789898978965799769989',\n",
       " '2996567899656795423964321981269893987983212345689765434499898799865332975201297598789467979987654292',\n",
       " '9875456998945789019875992984378942496543201456789897521345679689965449964319976465694356797998893101']"
      ]
     },
     "execution_count": 1,
     "metadata": {},
     "output_type": "execute_result"
    }
   ],
   "source": [
    "EXAMPLE = False\n",
    "filename = \"input.txt\"\n",
    "if EXAMPLE: filename = \"example.txt\"\n",
    "    \n",
    "data = []\n",
    "with open(filename, \"r\") as f:\n",
    "    for line in f:\n",
    "        data.append(line.strip())\n",
    "\n",
    "data[:10]"
   ]
  },
  {
   "cell_type": "markdown",
   "id": "4cc18881",
   "metadata": {},
   "source": [
    "## Part 1"
   ]
  },
  {
   "cell_type": "code",
   "execution_count": 2,
   "id": "3077b791",
   "metadata": {},
   "outputs": [],
   "source": [
    "heightmap = [[int(d) for d in x] for x in data]"
   ]
  },
  {
   "cell_type": "code",
   "execution_count": 3,
   "id": "23827c06",
   "metadata": {},
   "outputs": [],
   "source": [
    "def Get_Neighbor_Coordinates(i, j):\n",
    "    up = (i - 1, j)\n",
    "    down = (i + 1, j)\n",
    "    left = (i, j -1)\n",
    "    right = (i, j + 1)\n",
    "    return up, down, left, right"
   ]
  },
  {
   "cell_type": "code",
   "execution_count": 4,
   "id": "87f5cca5",
   "metadata": {},
   "outputs": [],
   "source": [
    "low_points = []\n",
    "\n",
    "for i, row in enumerate(heightmap):\n",
    "    for j, col in enumerate(row):\n",
    "        \n",
    "        current = int(heightmap[i][j])\n",
    "        neighbors_coordinates = Get_Neighbor_Coordinates(i, j)\n",
    "        \n",
    "        neighbors = []\n",
    "        for a, b in neighbors_coordinates:\n",
    "            if a in range(len(heightmap)) and b in range(len(row)):\n",
    "                valid_neighbor = heightmap[a][b]\n",
    "                neighbors += [valid_neighbor]\n",
    "        \n",
    "        if int(current) < min(neighbors):\n",
    "            low_points += [(i, j)]"
   ]
  },
  {
   "cell_type": "code",
   "execution_count": 5,
   "id": "cca11a8c",
   "metadata": {},
   "outputs": [
    {
     "data": {
      "text/plain": [
       "439"
      ]
     },
     "execution_count": 5,
     "metadata": {},
     "output_type": "execute_result"
    }
   ],
   "source": [
    "risk_levels = []\n",
    "for i, j in low_points:\n",
    "    risk_levels += [heightmap[i][j] + 1]\n",
    "sum(risk_levels)"
   ]
  },
  {
   "cell_type": "markdown",
   "id": "e02e811f",
   "metadata": {},
   "source": [
    "## Part 2"
   ]
  },
  {
   "cell_type": "code",
   "execution_count": 10,
   "id": "d383e518",
   "metadata": {},
   "outputs": [],
   "source": [
    "def Find_Everything_Connected_To(i, j, heightmap, res):\n",
    "    neighbors_coordinates = Get_Neighbor_Coordinates(i, j)\n",
    "    valid_neighbors_coordinates = [c for c in neighbors_coordinates if c[0] in range(len(heightmap)) and c[1] in range(len(row))]\n",
    "    \n",
    "    for a, b in valid_neighbors_coordinates:\n",
    "        valid_neighbor = int(heightmap[a][b])\n",
    "        if valid_neighbor != 9:\n",
    "            if not (a, b) in res:\n",
    "                res[(a, b)] = valid_neighbor\n",
    "                Find_Everything_Connected_To(a, b, heightmap, res)"
   ]
  },
  {
   "cell_type": "code",
   "execution_count": 11,
   "id": "ac57d2ac",
   "metadata": {},
   "outputs": [
    {
     "data": {
      "text/plain": [
       "900900"
      ]
     },
     "execution_count": 11,
     "metadata": {},
     "output_type": "execute_result"
    }
   ],
   "source": [
    "basin_sums = []\n",
    "for i, j in low_points:\n",
    "    res = {}\n",
    "    Find_Everything_Connected_To(i, j, heightmap, res)\n",
    "    basin_sums += [len(res)]\n",
    "\n",
    "sorted(basin_sums)[-3] * sorted(basin_sums)[-2] * sorted(basin_sums)[-1]"
   ]
  },
  {
   "cell_type": "code",
   "execution_count": null,
   "id": "2bbad564",
   "metadata": {},
   "outputs": [],
   "source": []
  }
 ],
 "metadata": {
  "kernelspec": {
   "display_name": "Python 3 (ipykernel)",
   "language": "python",
   "name": "python3"
  },
  "language_info": {
   "codemirror_mode": {
    "name": "ipython",
    "version": 3
   },
   "file_extension": ".py",
   "mimetype": "text/x-python",
   "name": "python",
   "nbconvert_exporter": "python",
   "pygments_lexer": "ipython3",
   "version": "3.9.6"
  }
 },
 "nbformat": 4,
 "nbformat_minor": 5
}
