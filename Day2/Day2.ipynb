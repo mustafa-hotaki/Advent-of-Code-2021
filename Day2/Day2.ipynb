{
 "cells": [
  {
   "cell_type": "markdown",
   "id": "f8ec8752",
   "metadata": {},
   "source": [
    "# Advent of Code 2021 - Day 2"
   ]
  },
  {
   "cell_type": "code",
   "execution_count": 1,
   "id": "a36576a2",
   "metadata": {},
   "outputs": [
    {
     "name": "stdout",
     "output_type": "stream",
     "text": [
      "First 10 data points: [('forward', 9), ('down', 9), ('up', 4), ('down', 5), ('down', 6), ('up', 6), ('down', 7), ('down', 1), ('forward', 6), ('down', 4)]\n",
      "Number of data points: 1000\n"
     ]
    }
   ],
   "source": [
    "data = []\n",
    "with open(\"inputs_day_2.txt\", \"r\") as f:\n",
    "    for line in f:\n",
    "        x = line.strip().split()\n",
    "        data.append((x[0], int(x[1])))\n",
    "\n",
    "print('First 10 data points:', data[:10])\n",
    "print('Number of data points:', len(data))"
   ]
  },
  {
   "cell_type": "markdown",
   "id": "4cc18881",
   "metadata": {},
   "source": [
    "## Part 1"
   ]
  },
  {
   "cell_type": "code",
   "execution_count": 2,
   "id": "b6f6ae0a",
   "metadata": {},
   "outputs": [
    {
     "data": {
      "text/plain": [
       "1499229"
      ]
     },
     "execution_count": 2,
     "metadata": {},
     "output_type": "execute_result"
    }
   ],
   "source": [
    "depth = 0\n",
    "horizontal_position = 0\n",
    "\n",
    "for x in data:\n",
    "    if x[0] == 'forward':\n",
    "        horizontal_position += x[1]\n",
    "    elif x[0] == 'down':\n",
    "        depth += x[1]\n",
    "    elif x[0] == 'up':\n",
    "        depth -= x[1]\n",
    "\n",
    "depth * horizontal_position"
   ]
  },
  {
   "cell_type": "markdown",
   "id": "e02e811f",
   "metadata": {},
   "source": [
    "## Part 2"
   ]
  },
  {
   "cell_type": "code",
   "execution_count": 3,
   "id": "8e5053f3",
   "metadata": {
    "scrolled": true
   },
   "outputs": [
    {
     "data": {
      "text/plain": [
       "1340836560"
      ]
     },
     "execution_count": 3,
     "metadata": {},
     "output_type": "execute_result"
    }
   ],
   "source": [
    "depth = 0\n",
    "horizontal_position = 0\n",
    "aim = 0\n",
    "\n",
    "for x in data:\n",
    "    if x[0] == 'forward':\n",
    "        horizontal_position += x[1]\n",
    "        depth = depth + (aim * x[1])\n",
    "    elif x[0] == 'down':\n",
    "        aim += x[1]\n",
    "    elif x[0] == 'up':\n",
    "        aim -= x[1]\n",
    "\n",
    "depth * horizontal_position"
   ]
  }
 ],
 "metadata": {
  "kernelspec": {
   "display_name": "Python 3 (ipykernel)",
   "language": "python",
   "name": "python3"
  },
  "language_info": {
   "codemirror_mode": {
    "name": "ipython",
    "version": 3
   },
   "file_extension": ".py",
   "mimetype": "text/x-python",
   "name": "python",
   "nbconvert_exporter": "python",
   "pygments_lexer": "ipython3",
   "version": "3.9.6"
  }
 },
 "nbformat": 4,
 "nbformat_minor": 5
}
